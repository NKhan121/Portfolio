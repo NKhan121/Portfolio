{
 "cells": [
  {
   "cell_type": "markdown",
   "metadata": {},
   "source": [
    "Monday - Constructing SQL Relational Database\n",
    "\n",
    "Set up a SQL relational database. \n",
    "We want you to use the information in both the 'credit_info.csv' and 'customer_info.csv' to create a relational database using SQL. 'ID' is a unique value (or at least it should be). Your database must contain 4 different tables.\n",
    "\n",
    "One with the customer demographic info (including if they defaulted or not)\n",
    "\n",
    "One with user's Payment Status History (PAY_STAT_XXX).\n",
    "\n",
    "One with user's Bill Amount history (BILL_AMT_XXX).\n",
    "\n",
    "One with user's Payment amount history (BILL_PAY_XXX)\n",
    "\n",
    "You can use PostGres, SQLite or any other SQL system you are familiar with. Include a written copy of the Data structure and all Keys (Primary and Secondary)"
   ]
  },
  {
   "cell_type": "code",
   "execution_count": 2,
   "metadata": {
    "collapsed": true
   },
   "outputs": [],
   "source": [
    "import pandas as pd\n",
    "import sqlite3\n",
    "from pandas.io import sql"
   ]
  },
  {
   "cell_type": "code",
   "execution_count": 3,
   "metadata": {
    "collapsed": true
   },
   "outputs": [],
   "source": [
    "#making the datasets into df\n",
    "\n",
    "credit = pd.read_csv('credit_info.csv', encoding = 'utf-8')\n",
    "cust = pd.read_csv('customer_info.csv', encoding = 'utf-8')\n",
    "\n",
    "#orders = pd.read_csv('data/csv/EuroMart-ListOfOrders.csv', encoding = 'utf-8')\n",
    "#OBD =  pd.read_csv('data/csv/EuroMart-OrderBreakdown.csv', encoding = 'utf-8')\n",
    "#sales_targets =  pd.read_csv('data/csv/EuroMart-SalesTargets.csv', encoding = 'utf-8')\n"
   ]
  },
  {
   "cell_type": "code",
   "execution_count": 4,
   "metadata": {
    "collapsed": false,
    "scrolled": true
   },
   "outputs": [
    {
     "data": {
      "text/html": [
       "<div>\n",
       "<table border=\"1\" class=\"dataframe\">\n",
       "  <thead>\n",
       "    <tr style=\"text-align: right;\">\n",
       "      <th></th>\n",
       "      <th>Unnamed: 0</th>\n",
       "      <th>ID</th>\n",
       "      <th>LIMIT_BAL</th>\n",
       "      <th>SEX</th>\n",
       "      <th>EDUCATION</th>\n",
       "      <th>MARRIAGE</th>\n",
       "      <th>AGE</th>\n",
       "      <th>default payment next month</th>\n",
       "    </tr>\n",
       "  </thead>\n",
       "  <tbody>\n",
       "    <tr>\n",
       "      <th>0</th>\n",
       "      <td>0</td>\n",
       "      <td>1</td>\n",
       "      <td>20000</td>\n",
       "      <td>2</td>\n",
       "      <td>2.0</td>\n",
       "      <td>1</td>\n",
       "      <td>24</td>\n",
       "      <td>1</td>\n",
       "    </tr>\n",
       "    <tr>\n",
       "      <th>1</th>\n",
       "      <td>1</td>\n",
       "      <td>2</td>\n",
       "      <td>120000</td>\n",
       "      <td>2</td>\n",
       "      <td>2.0</td>\n",
       "      <td>2</td>\n",
       "      <td>26</td>\n",
       "      <td>1</td>\n",
       "    </tr>\n",
       "    <tr>\n",
       "      <th>2</th>\n",
       "      <td>2</td>\n",
       "      <td>3</td>\n",
       "      <td>90000</td>\n",
       "      <td>2</td>\n",
       "      <td>2.0</td>\n",
       "      <td>2</td>\n",
       "      <td>34</td>\n",
       "      <td>0</td>\n",
       "    </tr>\n",
       "  </tbody>\n",
       "</table>\n",
       "</div>"
      ],
      "text/plain": [
       "   Unnamed: 0  ID  LIMIT_BAL  SEX  EDUCATION  MARRIAGE  AGE  \\\n",
       "0           0   1      20000    2        2.0         1   24   \n",
       "1           1   2     120000    2        2.0         2   26   \n",
       "2           2   3      90000    2        2.0         2   34   \n",
       "\n",
       "   default payment next month  \n",
       "0                           1  \n",
       "1                           1  \n",
       "2                           0  "
      ]
     },
     "execution_count": 4,
     "metadata": {},
     "output_type": "execute_result"
    }
   ],
   "source": [
    "cust.head(3)"
   ]
  },
  {
   "cell_type": "code",
   "execution_count": 5,
   "metadata": {
    "collapsed": false
   },
   "outputs": [
    {
     "data": {
      "text/plain": [
       "(30000, 8)"
      ]
     },
     "execution_count": 5,
     "metadata": {},
     "output_type": "execute_result"
    }
   ],
   "source": [
    "cust.shape"
   ]
  },
  {
   "cell_type": "code",
   "execution_count": 6,
   "metadata": {
    "collapsed": false
   },
   "outputs": [
    {
     "data": {
      "text/html": [
       "<div>\n",
       "<table border=\"1\" class=\"dataframe\">\n",
       "  <thead>\n",
       "    <tr style=\"text-align: right;\">\n",
       "      <th></th>\n",
       "      <th>Unnamed: 0</th>\n",
       "      <th>ID</th>\n",
       "      <th>PAY_STAT_SEP</th>\n",
       "      <th>PAY_STAT_AUG</th>\n",
       "      <th>PAY_STAT_JUL</th>\n",
       "      <th>PAY_STAT_JUN</th>\n",
       "      <th>PAY_STAT_MAY</th>\n",
       "      <th>PAY_STAT_APR</th>\n",
       "      <th>BILL_AMT_SEP</th>\n",
       "      <th>BILL_AMT_AUG</th>\n",
       "      <th>...</th>\n",
       "      <th>BILL_AMT_JUN</th>\n",
       "      <th>BILL_AMT_MAY</th>\n",
       "      <th>BILL_AMT_APR</th>\n",
       "      <th>BILL_PAY_SEP</th>\n",
       "      <th>BILL_PAY_AUG</th>\n",
       "      <th>BILL_PAY_JUL</th>\n",
       "      <th>BILL_PAY_JUN</th>\n",
       "      <th>BILL_PAY_MAY</th>\n",
       "      <th>BILL_PAY_APR</th>\n",
       "      <th>default payment next month</th>\n",
       "    </tr>\n",
       "  </thead>\n",
       "  <tbody>\n",
       "    <tr>\n",
       "      <th>0</th>\n",
       "      <td>0</td>\n",
       "      <td>1</td>\n",
       "      <td>2</td>\n",
       "      <td>2</td>\n",
       "      <td>-1</td>\n",
       "      <td>-1</td>\n",
       "      <td>-2</td>\n",
       "      <td>-2</td>\n",
       "      <td>3913</td>\n",
       "      <td>3102.0</td>\n",
       "      <td>...</td>\n",
       "      <td>0</td>\n",
       "      <td>0</td>\n",
       "      <td>0</td>\n",
       "      <td>0</td>\n",
       "      <td>689</td>\n",
       "      <td>0</td>\n",
       "      <td>0</td>\n",
       "      <td>0</td>\n",
       "      <td>0</td>\n",
       "      <td>1</td>\n",
       "    </tr>\n",
       "    <tr>\n",
       "      <th>1</th>\n",
       "      <td>1</td>\n",
       "      <td>2</td>\n",
       "      <td>-1</td>\n",
       "      <td>2</td>\n",
       "      <td>0</td>\n",
       "      <td>0</td>\n",
       "      <td>0</td>\n",
       "      <td>2</td>\n",
       "      <td>2682</td>\n",
       "      <td>1725.0</td>\n",
       "      <td>...</td>\n",
       "      <td>3272</td>\n",
       "      <td>3455</td>\n",
       "      <td>3261</td>\n",
       "      <td>0</td>\n",
       "      <td>1000</td>\n",
       "      <td>1000</td>\n",
       "      <td>1000</td>\n",
       "      <td>0</td>\n",
       "      <td>2000</td>\n",
       "      <td>1</td>\n",
       "    </tr>\n",
       "    <tr>\n",
       "      <th>2</th>\n",
       "      <td>2</td>\n",
       "      <td>3</td>\n",
       "      <td>0</td>\n",
       "      <td>0</td>\n",
       "      <td>0</td>\n",
       "      <td>0</td>\n",
       "      <td>0</td>\n",
       "      <td>0</td>\n",
       "      <td>29239</td>\n",
       "      <td>14027.0</td>\n",
       "      <td>...</td>\n",
       "      <td>14331</td>\n",
       "      <td>14948</td>\n",
       "      <td>15549</td>\n",
       "      <td>1518</td>\n",
       "      <td>1500</td>\n",
       "      <td>1000</td>\n",
       "      <td>1000</td>\n",
       "      <td>1000</td>\n",
       "      <td>5000</td>\n",
       "      <td>0</td>\n",
       "    </tr>\n",
       "  </tbody>\n",
       "</table>\n",
       "<p>3 rows × 21 columns</p>\n",
       "</div>"
      ],
      "text/plain": [
       "   Unnamed: 0  ID  PAY_STAT_SEP  PAY_STAT_AUG  PAY_STAT_JUL  PAY_STAT_JUN  \\\n",
       "0           0   1             2             2            -1            -1   \n",
       "1           1   2            -1             2             0             0   \n",
       "2           2   3             0             0             0             0   \n",
       "\n",
       "   PAY_STAT_MAY  PAY_STAT_APR  BILL_AMT_SEP  BILL_AMT_AUG  \\\n",
       "0            -2            -2          3913        3102.0   \n",
       "1             0             2          2682        1725.0   \n",
       "2             0             0         29239       14027.0   \n",
       "\n",
       "              ...              BILL_AMT_JUN  BILL_AMT_MAY  BILL_AMT_APR  \\\n",
       "0             ...                         0             0             0   \n",
       "1             ...                      3272          3455          3261   \n",
       "2             ...                     14331         14948         15549   \n",
       "\n",
       "   BILL_PAY_SEP  BILL_PAY_AUG  BILL_PAY_JUL  BILL_PAY_JUN  BILL_PAY_MAY  \\\n",
       "0             0           689             0             0             0   \n",
       "1             0          1000          1000          1000             0   \n",
       "2          1518          1500          1000          1000          1000   \n",
       "\n",
       "   BILL_PAY_APR  default payment next month  \n",
       "0             0                           1  \n",
       "1          2000                           1  \n",
       "2          5000                           0  \n",
       "\n",
       "[3 rows x 21 columns]"
      ]
     },
     "execution_count": 6,
     "metadata": {},
     "output_type": "execute_result"
    }
   ],
   "source": [
    "credit.head(3)"
   ]
  },
  {
   "cell_type": "code",
   "execution_count": 7,
   "metadata": {
    "collapsed": false
   },
   "outputs": [
    {
     "data": {
      "text/plain": [
       "(30000, 21)"
      ]
     },
     "execution_count": 7,
     "metadata": {},
     "output_type": "execute_result"
    }
   ],
   "source": [
    "credit.shape\n"
   ]
  },
  {
   "cell_type": "code",
   "execution_count": 9,
   "metadata": {
    "collapsed": false
   },
   "outputs": [
    {
     "name": "stdout",
     "output_type": "stream",
     "text": [
      "<class 'pandas.core.frame.DataFrame'>\n",
      "RangeIndex: 30000 entries, 0 to 29999\n",
      "Data columns (total 21 columns):\n",
      "Unnamed: 0                    30000 non-null int64\n",
      "ID                            30000 non-null int64\n",
      "PAY_STAT_SEP                  30000 non-null int64\n",
      "PAY_STAT_AUG                  30000 non-null int64\n",
      "PAY_STAT_JUL                  30000 non-null int64\n",
      "PAY_STAT_JUN                  30000 non-null int64\n",
      "PAY_STAT_MAY                  30000 non-null int64\n",
      "PAY_STAT_APR                  30000 non-null int64\n",
      "BILL_AMT_SEP                  30000 non-null int64\n",
      "BILL_AMT_AUG                  27457 non-null float64\n",
      "BILL_AMT_JUL                  30000 non-null int64\n",
      "BILL_AMT_JUN                  30000 non-null int64\n",
      "BILL_AMT_MAY                  30000 non-null int64\n",
      "BILL_AMT_APR                  30000 non-null int64\n",
      "BILL_PAY_SEP                  30000 non-null int64\n",
      "BILL_PAY_AUG                  30000 non-null int64\n",
      "BILL_PAY_JUL                  30000 non-null int64\n",
      "BILL_PAY_JUN                  30000 non-null int64\n",
      "BILL_PAY_MAY                  30000 non-null int64\n",
      "BILL_PAY_APR                  30000 non-null int64\n",
      "default payment next month    30000 non-null int64\n",
      "dtypes: float64(1), int64(20)\n",
      "memory usage: 4.8 MB\n"
     ]
    }
   ],
   "source": [
    "credit.info()"
   ]
  },
  {
   "cell_type": "code",
   "execution_count": 10,
   "metadata": {
    "collapsed": false
   },
   "outputs": [
    {
     "data": {
      "text/plain": [
       "['Unnamed: 0',\n",
       " u'ID',\n",
       " u'PAY_STAT_SEP',\n",
       " u'PAY_STAT_AUG',\n",
       " u'PAY_STAT_JUL',\n",
       " u'PAY_STAT_JUN',\n",
       " u'PAY_STAT_MAY',\n",
       " u'PAY_STAT_APR',\n",
       " u'BILL_AMT_SEP',\n",
       " u'BILL_AMT_AUG',\n",
       " u'BILL_AMT_JUL',\n",
       " u'BILL_AMT_JUN',\n",
       " u'BILL_AMT_MAY',\n",
       " u'BILL_AMT_APR',\n",
       " u'BILL_PAY_SEP',\n",
       " u'BILL_PAY_AUG',\n",
       " u'BILL_PAY_JUL',\n",
       " u'BILL_PAY_JUN',\n",
       " u'BILL_PAY_MAY',\n",
       " u'BILL_PAY_APR',\n",
       " u'default payment next month']"
      ]
     },
     "execution_count": 10,
     "metadata": {},
     "output_type": "execute_result"
    }
   ],
   "source": [
    "list(credit)"
   ]
  },
  {
   "cell_type": "code",
   "execution_count": 11,
   "metadata": {
    "collapsed": false
   },
   "outputs": [],
   "source": [
    "dfpaystat = credit.drop(['BILL_AMT_SEP',\n",
    " 'BILL_AMT_AUG',\n",
    " 'BILL_AMT_JUL',\n",
    " 'BILL_AMT_JUN',\n",
    " 'BILL_AMT_MAY',\n",
    " 'BILL_AMT_APR',\n",
    " 'BILL_PAY_SEP',\n",
    " 'BILL_PAY_AUG',\n",
    " 'BILL_PAY_JUL',\n",
    " 'BILL_PAY_JUN',\n",
    " 'BILL_PAY_MAY',\n",
    " 'BILL_PAY_APR'], axis=1)\n",
    "## sample code from df.drop(['columnheading1', 'columnheading2'], axis=1, inplace=True)\n",
    "## removed inplace=True because it was dropping the columns from original credit df as well."
   ]
  },
  {
   "cell_type": "code",
   "execution_count": 12,
   "metadata": {
    "collapsed": false
   },
   "outputs": [
    {
     "data": {
      "text/html": [
       "<div>\n",
       "<table border=\"1\" class=\"dataframe\">\n",
       "  <thead>\n",
       "    <tr style=\"text-align: right;\">\n",
       "      <th></th>\n",
       "      <th>Unnamed: 0</th>\n",
       "      <th>ID</th>\n",
       "      <th>PAY_STAT_SEP</th>\n",
       "      <th>PAY_STAT_AUG</th>\n",
       "      <th>PAY_STAT_JUL</th>\n",
       "      <th>PAY_STAT_JUN</th>\n",
       "      <th>PAY_STAT_MAY</th>\n",
       "      <th>PAY_STAT_APR</th>\n",
       "      <th>default payment next month</th>\n",
       "    </tr>\n",
       "  </thead>\n",
       "  <tbody>\n",
       "    <tr>\n",
       "      <th>0</th>\n",
       "      <td>0</td>\n",
       "      <td>1</td>\n",
       "      <td>2</td>\n",
       "      <td>2</td>\n",
       "      <td>-1</td>\n",
       "      <td>-1</td>\n",
       "      <td>-2</td>\n",
       "      <td>-2</td>\n",
       "      <td>1</td>\n",
       "    </tr>\n",
       "    <tr>\n",
       "      <th>1</th>\n",
       "      <td>1</td>\n",
       "      <td>2</td>\n",
       "      <td>-1</td>\n",
       "      <td>2</td>\n",
       "      <td>0</td>\n",
       "      <td>0</td>\n",
       "      <td>0</td>\n",
       "      <td>2</td>\n",
       "      <td>1</td>\n",
       "    </tr>\n",
       "    <tr>\n",
       "      <th>2</th>\n",
       "      <td>2</td>\n",
       "      <td>3</td>\n",
       "      <td>0</td>\n",
       "      <td>0</td>\n",
       "      <td>0</td>\n",
       "      <td>0</td>\n",
       "      <td>0</td>\n",
       "      <td>0</td>\n",
       "      <td>0</td>\n",
       "    </tr>\n",
       "  </tbody>\n",
       "</table>\n",
       "</div>"
      ],
      "text/plain": [
       "   Unnamed: 0  ID  PAY_STAT_SEP  PAY_STAT_AUG  PAY_STAT_JUL  PAY_STAT_JUN  \\\n",
       "0           0   1             2             2            -1            -1   \n",
       "1           1   2            -1             2             0             0   \n",
       "2           2   3             0             0             0             0   \n",
       "\n",
       "   PAY_STAT_MAY  PAY_STAT_APR  default payment next month  \n",
       "0            -2            -2                           1  \n",
       "1             0             2                           1  \n",
       "2             0             0                           0  "
      ]
     },
     "execution_count": 12,
     "metadata": {},
     "output_type": "execute_result"
    }
   ],
   "source": [
    "dfpaystat.head(3)"
   ]
  },
  {
   "cell_type": "code",
   "execution_count": 13,
   "metadata": {
    "collapsed": false
   },
   "outputs": [
    {
     "data": {
      "text/plain": [
       "Index([                u'Unnamed: 0',                         u'ID',\n",
       "                     u'PAY_STAT_SEP',               u'PAY_STAT_AUG',\n",
       "                     u'PAY_STAT_JUL',               u'PAY_STAT_JUN',\n",
       "                     u'PAY_STAT_MAY',               u'PAY_STAT_APR',\n",
       "                     u'BILL_AMT_SEP',               u'BILL_AMT_AUG',\n",
       "                     u'BILL_AMT_JUL',               u'BILL_AMT_JUN',\n",
       "                     u'BILL_AMT_MAY',               u'BILL_AMT_APR',\n",
       "                     u'BILL_PAY_SEP',               u'BILL_PAY_AUG',\n",
       "                     u'BILL_PAY_JUL',               u'BILL_PAY_JUN',\n",
       "                     u'BILL_PAY_MAY',               u'BILL_PAY_APR',\n",
       "       u'default payment next month'],\n",
       "      dtype='object')"
      ]
     },
     "execution_count": 13,
     "metadata": {},
     "output_type": "execute_result"
    }
   ],
   "source": [
    "credit.columns"
   ]
  },
  {
   "cell_type": "code",
   "execution_count": 14,
   "metadata": {
    "collapsed": false
   },
   "outputs": [],
   "source": [
    "dfbillamt = credit.drop(['PAY_STAT_SEP',\n",
    " 'PAY_STAT_AUG',\n",
    " 'PAY_STAT_JUL',\n",
    " 'PAY_STAT_JUN',\n",
    " 'PAY_STAT_MAY',\n",
    " 'PAY_STAT_APR', \n",
    " 'BILL_PAY_SEP',\n",
    " 'BILL_PAY_AUG',\n",
    " 'BILL_PAY_JUL',\n",
    " 'BILL_PAY_JUN',\n",
    " 'BILL_PAY_MAY',\n",
    " 'BILL_PAY_APR'], axis=1)"
   ]
  },
  {
   "cell_type": "code",
   "execution_count": 15,
   "metadata": {
    "collapsed": false
   },
   "outputs": [
    {
     "data": {
      "text/html": [
       "<div>\n",
       "<table border=\"1\" class=\"dataframe\">\n",
       "  <thead>\n",
       "    <tr style=\"text-align: right;\">\n",
       "      <th></th>\n",
       "      <th>Unnamed: 0</th>\n",
       "      <th>ID</th>\n",
       "      <th>BILL_AMT_SEP</th>\n",
       "      <th>BILL_AMT_AUG</th>\n",
       "      <th>BILL_AMT_JUL</th>\n",
       "      <th>BILL_AMT_JUN</th>\n",
       "      <th>BILL_AMT_MAY</th>\n",
       "      <th>BILL_AMT_APR</th>\n",
       "      <th>default payment next month</th>\n",
       "    </tr>\n",
       "  </thead>\n",
       "  <tbody>\n",
       "    <tr>\n",
       "      <th>0</th>\n",
       "      <td>0</td>\n",
       "      <td>1</td>\n",
       "      <td>3913</td>\n",
       "      <td>3102.0</td>\n",
       "      <td>689</td>\n",
       "      <td>0</td>\n",
       "      <td>0</td>\n",
       "      <td>0</td>\n",
       "      <td>1</td>\n",
       "    </tr>\n",
       "    <tr>\n",
       "      <th>1</th>\n",
       "      <td>1</td>\n",
       "      <td>2</td>\n",
       "      <td>2682</td>\n",
       "      <td>1725.0</td>\n",
       "      <td>2682</td>\n",
       "      <td>3272</td>\n",
       "      <td>3455</td>\n",
       "      <td>3261</td>\n",
       "      <td>1</td>\n",
       "    </tr>\n",
       "    <tr>\n",
       "      <th>2</th>\n",
       "      <td>2</td>\n",
       "      <td>3</td>\n",
       "      <td>29239</td>\n",
       "      <td>14027.0</td>\n",
       "      <td>13559</td>\n",
       "      <td>14331</td>\n",
       "      <td>14948</td>\n",
       "      <td>15549</td>\n",
       "      <td>0</td>\n",
       "    </tr>\n",
       "  </tbody>\n",
       "</table>\n",
       "</div>"
      ],
      "text/plain": [
       "   Unnamed: 0  ID  BILL_AMT_SEP  BILL_AMT_AUG  BILL_AMT_JUL  BILL_AMT_JUN  \\\n",
       "0           0   1          3913        3102.0           689             0   \n",
       "1           1   2          2682        1725.0          2682          3272   \n",
       "2           2   3         29239       14027.0         13559         14331   \n",
       "\n",
       "   BILL_AMT_MAY  BILL_AMT_APR  default payment next month  \n",
       "0             0             0                           1  \n",
       "1          3455          3261                           1  \n",
       "2         14948         15549                           0  "
      ]
     },
     "execution_count": 15,
     "metadata": {},
     "output_type": "execute_result"
    }
   ],
   "source": [
    "dfbillamt.head(3)"
   ]
  },
  {
   "cell_type": "code",
   "execution_count": 16,
   "metadata": {
    "collapsed": false
   },
   "outputs": [],
   "source": [
    "dfbillpay = credit.drop(['PAY_STAT_AUG',\n",
    " 'PAY_STAT_SEP',\n",
    " 'PAY_STAT_JUL',\n",
    " 'PAY_STAT_JUN',\n",
    " 'PAY_STAT_MAY',\n",
    " 'PAY_STAT_APR',\n",
    " 'BILL_AMT_SEP',\n",
    " 'BILL_AMT_AUG',\n",
    " 'BILL_AMT_JUL',\n",
    " 'BILL_AMT_JUN',\n",
    " 'BILL_AMT_MAY',\n",
    " 'BILL_AMT_APR'], axis=1)\n",
    "## sample code from df.drop(['columnheading1', 'columnheading2'], axis=1, inplace=True)\n",
    "## removed inplace=True because it was dropping the columns from original credit df as well."
   ]
  },
  {
   "cell_type": "code",
   "execution_count": 17,
   "metadata": {
    "collapsed": false,
    "scrolled": true
   },
   "outputs": [
    {
     "data": {
      "text/html": [
       "<div>\n",
       "<table border=\"1\" class=\"dataframe\">\n",
       "  <thead>\n",
       "    <tr style=\"text-align: right;\">\n",
       "      <th></th>\n",
       "      <th>Unnamed: 0</th>\n",
       "      <th>ID</th>\n",
       "      <th>BILL_PAY_SEP</th>\n",
       "      <th>BILL_PAY_AUG</th>\n",
       "      <th>BILL_PAY_JUL</th>\n",
       "      <th>BILL_PAY_JUN</th>\n",
       "      <th>BILL_PAY_MAY</th>\n",
       "      <th>BILL_PAY_APR</th>\n",
       "      <th>default payment next month</th>\n",
       "    </tr>\n",
       "  </thead>\n",
       "  <tbody>\n",
       "    <tr>\n",
       "      <th>0</th>\n",
       "      <td>0</td>\n",
       "      <td>1</td>\n",
       "      <td>0</td>\n",
       "      <td>689</td>\n",
       "      <td>0</td>\n",
       "      <td>0</td>\n",
       "      <td>0</td>\n",
       "      <td>0</td>\n",
       "      <td>1</td>\n",
       "    </tr>\n",
       "    <tr>\n",
       "      <th>1</th>\n",
       "      <td>1</td>\n",
       "      <td>2</td>\n",
       "      <td>0</td>\n",
       "      <td>1000</td>\n",
       "      <td>1000</td>\n",
       "      <td>1000</td>\n",
       "      <td>0</td>\n",
       "      <td>2000</td>\n",
       "      <td>1</td>\n",
       "    </tr>\n",
       "    <tr>\n",
       "      <th>2</th>\n",
       "      <td>2</td>\n",
       "      <td>3</td>\n",
       "      <td>1518</td>\n",
       "      <td>1500</td>\n",
       "      <td>1000</td>\n",
       "      <td>1000</td>\n",
       "      <td>1000</td>\n",
       "      <td>5000</td>\n",
       "      <td>0</td>\n",
       "    </tr>\n",
       "  </tbody>\n",
       "</table>\n",
       "</div>"
      ],
      "text/plain": [
       "   Unnamed: 0  ID  BILL_PAY_SEP  BILL_PAY_AUG  BILL_PAY_JUL  BILL_PAY_JUN  \\\n",
       "0           0   1             0           689             0             0   \n",
       "1           1   2             0          1000          1000          1000   \n",
       "2           2   3          1518          1500          1000          1000   \n",
       "\n",
       "   BILL_PAY_MAY  BILL_PAY_APR  default payment next month  \n",
       "0             0             0                           1  \n",
       "1             0          2000                           1  \n",
       "2          1000          5000                           0  "
      ]
     },
     "execution_count": 17,
     "metadata": {},
     "output_type": "execute_result"
    }
   ],
   "source": [
    "dfbillpay.head(3)"
   ]
  },
  {
   "cell_type": "code",
   "execution_count": 18,
   "metadata": {
    "collapsed": true
   },
   "outputs": [],
   "source": [
    "import matplotlib.pyplot as plt\n",
    "%matplotlib inline"
   ]
  },
  {
   "cell_type": "code",
   "execution_count": 20,
   "metadata": {
    "collapsed": false
   },
   "outputs": [
    {
     "data": {
      "text/plain": [
       "<matplotlib.axes._subplots.AxesSubplot at 0x113fca1d0>"
      ]
     },
     "execution_count": 20,
     "metadata": {},
     "output_type": "execute_result"
    },
    {
     "data": {
      "image/png": "[encoded data removed]",
      "text/plain": [
       "<matplotlib.figure.Figure at 0x111dade90>"
      ]
     },
     "metadata": {},
     "output_type": "display_data"
    }
   ],
   "source": [
    "dfbillpay.BILL_PAY_SEP.plot(kind='hist', bins=20)"
   ]
  },
  {
   "cell_type": "code",
   "execution_count": 21,
   "metadata": {
    "collapsed": false
   },
   "outputs": [],
   "source": [
    "## allDF.groupby('weight').mean()\n",
    "\n",
    "\n",
    "## dfbillpay.groupby('BILL_PAY_SEP').mean()"
   ]
  },
  {
   "cell_type": "code",
   "execution_count": 22,
   "metadata": {
    "collapsed": false
   },
   "outputs": [
    {
     "ename": "OperationalError",
     "evalue": "unable to open database file",
     "output_type": "error",
     "traceback": [
      "\u001b[0;31m---------------------------------------------------------------------------\u001b[0m",
      "\u001b[0;31mOperationalError\u001b[0m                          Traceback (most recent call last)",
      "\u001b[0;32m<ipython-input-22-83149547a1e3>\u001b[0m in \u001b[0;36m<module>\u001b[0;34m()\u001b[0m\n\u001b[1;32m     16\u001b[0m \u001b[0;34m\u001b[0m\u001b[0m\n\u001b[1;32m     17\u001b[0m \u001b[0;31m#cars = pd.read_csv('data/csv/car-names.csv', encoding = 'utf-8')\u001b[0m\u001b[0;34m\u001b[0m\u001b[0;34m\u001b[0m\u001b[0m\n\u001b[0;32m---> 18\u001b[0;31m \u001b[0mconnection\u001b[0m \u001b[0;34m=\u001b[0m \u001b[0msqlite3\u001b[0m\u001b[0;34m.\u001b[0m\u001b[0mconnect\u001b[0m\u001b[0;34m(\u001b[0m\u001b[0;34m'data/sql/cust.db.sqlite'\u001b[0m\u001b[0;34m)\u001b[0m\u001b[0;34m\u001b[0m\u001b[0m\n\u001b[0m\u001b[1;32m     19\u001b[0m \u001b[0;34m\u001b[0m\u001b[0m\n\u001b[1;32m     20\u001b[0m \u001b[0;31m# Establishing Local DB connection\u001b[0m\u001b[0;34m\u001b[0m\u001b[0;34m\u001b[0m\u001b[0m\n",
      "\u001b[0;31mOperationalError\u001b[0m: unable to open database file"
     ]
    }
   ],
   "source": [
    "# Establishing the Connection to our Database.  If no database exists here, this will create one.\n",
    "#credit = pd.read_csv('credit_info.csv', encoding = 'utf-8')\n",
    "#cust = pd.read_csv('customer_info.csv', encoding = 'utf-8')\n",
    "#conn = sqlite3.connect(sqlite_db)\n",
    "\n",
    "#c = conn.cursor()\n",
    "\n",
    "#conn = sqlite3.connect(cust)\n",
    "#c = conn.cursor()\n",
    "\n",
    "\n",
    "#connection = sqlite3.connect('data/Cust.db.sqlite')\n",
    "#connection = sqlite3.connect('data/credit.db.sqlite')\n",
    "\n",
    "#connection = sqlite3.connect('customer_info/sql/Cust.db.sqlite')\n",
    "\n",
    "#cars = pd.read_csv('data/csv/car-names.csv', encoding = 'utf-8')\n",
    "connection = sqlite3.connect('data/sql/cust.db.sqlite')\n",
    "\n",
    "# Establishing Local DB connection\n",
    "#db_connection = sqlite3.connect('data/sql/Cust.db.sqlite')\n",
    "#db_connection = sqlite3.connect('data/sql/credit.db.sqlite')\n",
    "\n",
    "## connecting to a db\n",
    "## sqlite3 <filename>\n",
    "\n",
    "## %load_ext sql\n",
    "#db_connection = sqlite3.connect('data/sql/CustomerImfo.db.sqlite')\n",
    "\n",
    "# # Reading out DataFrames as SQL Table\n",
    "#credit.to_sql(name = 'credit', con = db_connection, if_exists = 'replace', index = False)\n",
    "#cust.to_sql(name = 'cust', con = db_connection, if_exists = 'replace', index = False)\n",
    "#OBD.to_sql(name = 'order_breakdown', con = db_connection, if_exists = 'replace', index = False)\n",
    "#sales_targets.to_sql(name = 'sales_targets', con = db_connection, if_exists = 'replace', index = False)\n",
    "\n",
    "\n",
    "## cars.to_sql(name = 'car_names', con = connection, if_exists = 'replace', index = False)\n"
   ]
  },
  {
   "cell_type": "code",
   "execution_count": 23,
   "metadata": {
    "collapsed": false
   },
   "outputs": [
    {
     "ename": "OperationalError",
     "evalue": "unable to open database file",
     "output_type": "error",
     "traceback": [
      "\u001b[0;31m---------------------------------------------------------------------------\u001b[0m",
      "\u001b[0;31mOperationalError\u001b[0m                          Traceback (most recent call last)",
      "\u001b[0;32m<ipython-input-23-3487cc3f3c09>\u001b[0m in \u001b[0;36m<module>\u001b[0;34m()\u001b[0m\n\u001b[1;32m      3\u001b[0m \u001b[0;31m# Establishing Local DB connection\u001b[0m\u001b[0;34m\u001b[0m\u001b[0;34m\u001b[0m\u001b[0m\n\u001b[1;32m      4\u001b[0m \u001b[0;31m# db_connection = sqlite3.connect('data/sql/EuroMart.db.sqlite')\u001b[0m\u001b[0;34m\u001b[0m\u001b[0;34m\u001b[0m\u001b[0m\n\u001b[0;32m----> 5\u001b[0;31m \u001b[0mconnection\u001b[0m \u001b[0;34m=\u001b[0m \u001b[0msqlite3\u001b[0m\u001b[0;34m.\u001b[0m\u001b[0mconnect\u001b[0m\u001b[0;34m(\u001b[0m\u001b[0;34m'data/sql/cust.db.sqlite'\u001b[0m\u001b[0;34m)\u001b[0m\u001b[0;34m\u001b[0m\u001b[0m\n\u001b[0m\u001b[1;32m      6\u001b[0m \u001b[0;34m\u001b[0m\u001b[0m\n\u001b[1;32m      7\u001b[0m \u001b[0mcust\u001b[0m\u001b[0;34m.\u001b[0m\u001b[0mto_sql\u001b[0m\u001b[0;34m(\u001b[0m\u001b[0mname\u001b[0m \u001b[0;34m=\u001b[0m \u001b[0;34m'cust'\u001b[0m\u001b[0;34m,\u001b[0m \u001b[0mcon\u001b[0m \u001b[0;34m=\u001b[0m \u001b[0mconnection\u001b[0m\u001b[0;34m,\u001b[0m \u001b[0mif_exists\u001b[0m \u001b[0;34m=\u001b[0m \u001b[0;34m'replace'\u001b[0m\u001b[0;34m,\u001b[0m \u001b[0mindex\u001b[0m \u001b[0;34m=\u001b[0m \u001b[0mFalse\u001b[0m\u001b[0;34m)\u001b[0m\u001b[0;34m\u001b[0m\u001b[0m\n",
      "\u001b[0;31mOperationalError\u001b[0m: unable to open database file"
     ]
    }
   ],
   "source": [
    "# Converting the customers df into a SQL database\n",
    "\n",
    "# Establishing Local DB connection\n",
    "# db_connection = sqlite3.connect('data/sql/EuroMart.db.sqlite')\n",
    "connection = sqlite3.connect('data/sql/cust.db.sqlite')\n",
    "\n",
    "cust.to_sql(name = 'cust', con = connection, if_exists = 'replace', index = False)\n"
   ]
  },
  {
   "cell_type": "code",
   "execution_count": 166,
   "metadata": {
    "collapsed": false
   },
   "outputs": [],
   "source": [
    "# Converting the dfpaystat into a SQL database\n",
    "\n",
    "dfpaystat.to_sql(name = 'paystatus', con = connection, if_exists = 'replace', index = False)\n"
   ]
  },
  {
   "cell_type": "code",
   "execution_count": 167,
   "metadata": {
    "collapsed": true
   },
   "outputs": [],
   "source": [
    "# Converting the dfbillamt into a SQL database\n",
    "\n",
    "dfbillamt.to_sql(name = 'billamt', con = connection, if_exists = 'replace', index = False)"
   ]
  },
  {
   "cell_type": "code",
   "execution_count": 193,
   "metadata": {
    "collapsed": true
   },
   "outputs": [],
   "source": [
    "## #connection = sqlite3.connect('customer_info/sql/Cust.db.sqlite')\n",
    "\n",
    "\n",
    "connection = sqlite3.connect('data/paystatus.db.sqlite')"
   ]
  },
  {
   "cell_type": "code",
   "execution_count": 225,
   "metadata": {
    "collapsed": false
   },
   "outputs": [],
   "source": [
    "db_connection = sqlite3.connect('data/Cust.db.sqlite')\n",
    "#db_connection = sqlite3.connect('data/sql/credit.db.sqlite')\n",
    "## create the correct path to the \n",
    "## Sam helped me type up the correct path to the sql db in my notebook. Thank you so much Sam!!\n"
   ]
  },
  {
   "cell_type": "code",
   "execution_count": 226,
   "metadata": {
    "collapsed": false
   },
   "outputs": [],
   "source": [
    "x = sql.read_sql('SELECT BILL_AMT_SEP FROM billamt', con = db_connection).head()\n",
    "##sql.read_sql('SELECT city, country, region, state FROM orders', con = db_connection).head()"
   ]
  },
  {
   "cell_type": "code",
   "execution_count": 227,
   "metadata": {
    "collapsed": true
   },
   "outputs": [],
   "source": [
    "# Converting the dfbillpay into a SQL database\n",
    "\n",
    "dfbillpay.to_sql(name = 'billpay', con = connection, if_exists = 'replace', index = False)\n",
    "\n",
    "## orders.to_sql(name = 'orders', con = db_connection, if_exists = 'replace', index = False)\n"
   ]
  },
  {
   "cell_type": "markdown",
   "metadata": {},
   "source": [
    "Tuesday - Database Querying and EDA\n",
    "\n",
    "Identify and interpret summary statistics.\n",
    "\n",
    "Mean, Median, Mode\n",
    "\n",
    "Moving Averages and changes\n",
    "\n",
    "Distributions\n",
    "\n",
    "Handle missing values and justify your rational.\n",
    "\n",
    "Evaluate features for importance.\n",
    "\n",
    "Use visualizations (Tableau or Python plotting) to show a few of your findings.\n",
    "\n",
    "Bonus - Engineer a Feature\n",
    "\n",
    "Super-Bonus Determine the relative importance of your engineered feature.\n",
    "There is now a Data Dictionary in the 'Data' folder.\n",
    "\n",
    "Please add your notebook with your name to this 'Week 11 Code Challenge' folder and push it today."
   ]
  },
  {
   "cell_type": "code",
   "execution_count": 171,
   "metadata": {
    "collapsed": false
   },
   "outputs": [
    {
     "data": {
      "text/html": [
       "<div>\n",
       "<table border=\"1\" class=\"dataframe\">\n",
       "  <thead>\n",
       "    <tr style=\"text-align: right;\">\n",
       "      <th></th>\n",
       "      <th>Unnamed: 0</th>\n",
       "      <th>ID</th>\n",
       "      <th>PAY_STAT_SEP</th>\n",
       "      <th>PAY_STAT_AUG</th>\n",
       "      <th>PAY_STAT_JUL</th>\n",
       "      <th>PAY_STAT_JUN</th>\n",
       "      <th>PAY_STAT_MAY</th>\n",
       "      <th>PAY_STAT_APR</th>\n",
       "      <th>default payment next month</th>\n",
       "    </tr>\n",
       "  </thead>\n",
       "  <tbody>\n",
       "    <tr>\n",
       "      <th>0</th>\n",
       "      <td>0</td>\n",
       "      <td>1</td>\n",
       "      <td>2</td>\n",
       "      <td>2</td>\n",
       "      <td>-1</td>\n",
       "      <td>-1</td>\n",
       "      <td>-2</td>\n",
       "      <td>-2</td>\n",
       "      <td>1</td>\n",
       "    </tr>\n",
       "    <tr>\n",
       "      <th>1</th>\n",
       "      <td>1</td>\n",
       "      <td>2</td>\n",
       "      <td>-1</td>\n",
       "      <td>2</td>\n",
       "      <td>0</td>\n",
       "      <td>0</td>\n",
       "      <td>0</td>\n",
       "      <td>2</td>\n",
       "      <td>1</td>\n",
       "    </tr>\n",
       "    <tr>\n",
       "      <th>2</th>\n",
       "      <td>2</td>\n",
       "      <td>3</td>\n",
       "      <td>0</td>\n",
       "      <td>0</td>\n",
       "      <td>0</td>\n",
       "      <td>0</td>\n",
       "      <td>0</td>\n",
       "      <td>0</td>\n",
       "      <td>0</td>\n",
       "    </tr>\n",
       "    <tr>\n",
       "      <th>3</th>\n",
       "      <td>3</td>\n",
       "      <td>4</td>\n",
       "      <td>0</td>\n",
       "      <td>0</td>\n",
       "      <td>0</td>\n",
       "      <td>0</td>\n",
       "      <td>0</td>\n",
       "      <td>0</td>\n",
       "      <td>0</td>\n",
       "    </tr>\n",
       "  </tbody>\n",
       "</table>\n",
       "</div>"
      ],
      "text/plain": [
       "   Unnamed: 0  ID  PAY_STAT_SEP  PAY_STAT_AUG  PAY_STAT_JUL  PAY_STAT_JUN  \\\n",
       "0           0   1             2             2            -1            -1   \n",
       "1           1   2            -1             2             0             0   \n",
       "2           2   3             0             0             0             0   \n",
       "3           3   4             0             0             0             0   \n",
       "\n",
       "   PAY_STAT_MAY  PAY_STAT_APR  default payment next month  \n",
       "0            -2            -2                           1  \n",
       "1             0             2                           1  \n",
       "2             0             0                           0  \n",
       "3             0             0                           0  "
      ]
     },
     "execution_count": 171,
     "metadata": {},
     "output_type": "execute_result"
    }
   ],
   "source": [
    "dfpaystat.head(4)"
   ]
  },
  {
   "cell_type": "code",
   "execution_count": 172,
   "metadata": {
    "collapsed": false
   },
   "outputs": [
    {
     "ename": "NameError",
     "evalue": "name 'billamt' is not defined",
     "output_type": "error",
     "traceback": [
      "\u001b[0;31m---------------------------------------------------------------------------\u001b[0m",
      "\u001b[0;31mNameError\u001b[0m                                 Traceback (most recent call last)",
      "\u001b[0;32m<ipython-input-172-49efdc077bf2>\u001b[0m in \u001b[0;36m<module>\u001b[0;34m()\u001b[0m\n\u001b[1;32m      5\u001b[0m \u001b[0;31m## customers['customer_name'].value_counts().head()\u001b[0m\u001b[0;34m\u001b[0m\u001b[0;34m\u001b[0m\u001b[0m\n\u001b[1;32m      6\u001b[0m \u001b[0;34m\u001b[0m\u001b[0m\n\u001b[0;32m----> 7\u001b[0;31m \u001b[0mbillamt\u001b[0m\u001b[0;34m.\u001b[0m\u001b[0mhead\u001b[0m\u001b[0;34m(\u001b[0m\u001b[0;34m)\u001b[0m\u001b[0;34m\u001b[0m\u001b[0m\n\u001b[0m\u001b[1;32m      8\u001b[0m \u001b[0;34m\u001b[0m\u001b[0m\n\u001b[1;32m      9\u001b[0m \u001b[0;31m## orders.to_sql(name = 'orders', con = db_connection, if_exists = 'replace', index = False)\u001b[0m\u001b[0;34m\u001b[0m\u001b[0;34m\u001b[0m\u001b[0m\n",
      "\u001b[0;31mNameError\u001b[0m: name 'billamt' is not defined"
     ]
    }
   ],
   "source": [
    "### Getting all customer names and setting them to a pandas object\n",
    "## customers = sql.read_sql('SELECT customer_name FROM orders', con = db_connection)\n",
    "\n",
    "# counting unique values in the list\n",
    "## customers['customer_name'].value_counts().head()\n",
    "\n",
    "billamt.head()\n",
    "\n",
    "## orders.to_sql(name = 'orders', con = db_connection, if_exists = 'replace', index = False)\n"
   ]
  },
  {
   "cell_type": "code",
   "execution_count": null,
   "metadata": {
    "collapsed": true
   },
   "outputs": [],
   "source": [
    "## Still problem solving why my 3 sql databases are not defined"
   ]
  },
  {
   "cell_type": "code",
   "execution_count": 196,
   "metadata": {
    "collapsed": false
   },
   "outputs": [],
   "source": [
    "import matplotlib.pyplot as plt\n",
    "%matplotlib inline\n",
    "\n",
    "plt.style.use('fivethirtyeight')\n",
    "#drinks.beer.plt(kind='hist', bins=3)"
   ]
  },
  {
   "cell_type": "code",
   "execution_count": 197,
   "metadata": {
    "collapsed": false
   },
   "outputs": [
    {
     "data": {
      "text/plain": [
       "<matplotlib.axes._subplots.AxesSubplot at 0x11e93ec10>"
      ]
     },
     "execution_count": 197,
     "metadata": {},
     "output_type": "execute_result"
    },
    {
     "data": {
      "image/png": "[encoded data removed]",
      "text/plain": [
       "<matplotlib.figure.Figure at 0x11d48a190>"
      ]
     },
     "metadata": {},
     "output_type": "display_data"
    }
   ],
   "source": [
    "dfbillpay.BILL_PAY_SEP.plot(kind='hist', bins=30)"
   ]
  }
 ],
 "metadata": {
  "anaconda-cloud": {},
  "kernelspec": {
   "display_name": "Python [conda root]",
   "language": "python",
   "name": "conda-root-py"
  },
  "language_info": {
   "codemirror_mode": {
    "name": "ipython",
    "version": 2
   },
   "file_extension": ".py",
   "mimetype": "text/x-python",
   "name": "python",
   "nbconvert_exporter": "python",
   "pygments_lexer": "ipython2",
   "version": "2.7.12"
  }
 },
 "nbformat": 4,
 "nbformat_minor": 1
}
