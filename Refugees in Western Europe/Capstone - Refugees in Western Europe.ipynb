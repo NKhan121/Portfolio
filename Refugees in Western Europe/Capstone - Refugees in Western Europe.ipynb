{
 "cells": [
  {
   "cell_type": "code",
   "execution_count": 30,
   "metadata": {
    "collapsed": true
   },
   "outputs": [],
   "source": [
    "import pandas as pd\n"
   ]
  },
  {
   "cell_type": "code",
   "execution_count": 32,
   "metadata": {
    "collapsed": false
   },
   "outputs": [
    {
     "data": {
      "text/plain": [
       "<pandas.io.excel.ExcelFile at 0x1370b4210>"
      ]
     },
     "execution_count": 32,
     "metadata": {},
     "output_type": "execute_result"
    }
   ],
   "source": [
    "# Import the excel file and call it xls_file ----found this on Chris Albon's website\n",
    "xls_file = pd.ExcelFile('globalterrorismdb_0616dist.xlsx')\n",
    "xls_file"
   ]
  },
  {
   "cell_type": "code",
   "execution_count": 33,
   "metadata": {
    "collapsed": false
   },
   "outputs": [
    {
     "data": {
      "text/html": [
       "<div>\n",
       "<table border=\"1\" class=\"dataframe\">\n",
       "  <thead>\n",
       "    <tr style=\"text-align: right;\">\n",
       "      <th></th>\n",
       "      <th>eventid</th>\n",
       "      <th>iyear</th>\n",
       "      <th>imonth</th>\n",
       "      <th>iday</th>\n",
       "      <th>approxdate</th>\n",
       "      <th>extended</th>\n",
       "      <th>resolution</th>\n",
       "      <th>country</th>\n",
       "      <th>country_txt</th>\n",
       "      <th>region</th>\n",
       "      <th>...</th>\n",
       "      <th>addnotes</th>\n",
       "      <th>scite1</th>\n",
       "      <th>scite2</th>\n",
       "      <th>scite3</th>\n",
       "      <th>dbsource</th>\n",
       "      <th>INT_LOG</th>\n",
       "      <th>INT_IDEO</th>\n",
       "      <th>INT_MISC</th>\n",
       "      <th>INT_ANY</th>\n",
       "      <th>related</th>\n",
       "    </tr>\n",
       "  </thead>\n",
       "  <tbody>\n",
       "    <tr>\n",
       "      <th>0</th>\n",
       "      <td>197000000001</td>\n",
       "      <td>1970</td>\n",
       "      <td>0</td>\n",
       "      <td>0</td>\n",
       "      <td>NaN</td>\n",
       "      <td>0</td>\n",
       "      <td>NaN</td>\n",
       "      <td>58</td>\n",
       "      <td>Dominican Republic</td>\n",
       "      <td>2</td>\n",
       "      <td>...</td>\n",
       "      <td>NaN</td>\n",
       "      <td>NaN</td>\n",
       "      <td>NaN</td>\n",
       "      <td>NaN</td>\n",
       "      <td>PGIS</td>\n",
       "      <td>0</td>\n",
       "      <td>0</td>\n",
       "      <td>0</td>\n",
       "      <td>0</td>\n",
       "      <td>NaN</td>\n",
       "    </tr>\n",
       "    <tr>\n",
       "      <th>1</th>\n",
       "      <td>197000000002</td>\n",
       "      <td>1970</td>\n",
       "      <td>0</td>\n",
       "      <td>0</td>\n",
       "      <td>NaN</td>\n",
       "      <td>0</td>\n",
       "      <td>NaN</td>\n",
       "      <td>130</td>\n",
       "      <td>Mexico</td>\n",
       "      <td>1</td>\n",
       "      <td>...</td>\n",
       "      <td>NaN</td>\n",
       "      <td>NaN</td>\n",
       "      <td>NaN</td>\n",
       "      <td>NaN</td>\n",
       "      <td>PGIS</td>\n",
       "      <td>0</td>\n",
       "      <td>1</td>\n",
       "      <td>1</td>\n",
       "      <td>1</td>\n",
       "      <td>NaN</td>\n",
       "    </tr>\n",
       "    <tr>\n",
       "      <th>2</th>\n",
       "      <td>197001000001</td>\n",
       "      <td>1970</td>\n",
       "      <td>1</td>\n",
       "      <td>0</td>\n",
       "      <td>NaN</td>\n",
       "      <td>0</td>\n",
       "      <td>NaN</td>\n",
       "      <td>160</td>\n",
       "      <td>Philippines</td>\n",
       "      <td>5</td>\n",
       "      <td>...</td>\n",
       "      <td>NaN</td>\n",
       "      <td>NaN</td>\n",
       "      <td>NaN</td>\n",
       "      <td>NaN</td>\n",
       "      <td>PGIS</td>\n",
       "      <td>-9</td>\n",
       "      <td>-9</td>\n",
       "      <td>1</td>\n",
       "      <td>1</td>\n",
       "      <td>NaN</td>\n",
       "    </tr>\n",
       "  </tbody>\n",
       "</table>\n",
       "<p>3 rows × 137 columns</p>\n",
       "</div>"
      ],
      "text/plain": [
       "        eventid  iyear  imonth  iday approxdate  extended resolution  country  \\\n",
       "0  197000000001   1970       0     0        NaN         0        NaN       58   \n",
       "1  197000000002   1970       0     0        NaN         0        NaN      130   \n",
       "2  197001000001   1970       1     0        NaN         0        NaN      160   \n",
       "\n",
       "          country_txt  region   ...    addnotes scite1 scite2  scite3  \\\n",
       "0  Dominican Republic       2   ...         NaN    NaN    NaN     NaN   \n",
       "1              Mexico       1   ...         NaN    NaN    NaN     NaN   \n",
       "2         Philippines       5   ...         NaN    NaN    NaN     NaN   \n",
       "\n",
       "   dbsource  INT_LOG  INT_IDEO INT_MISC INT_ANY  related  \n",
       "0      PGIS        0         0        0       0      NaN  \n",
       "1      PGIS        0         1        1       1      NaN  \n",
       "2      PGIS       -9        -9        1       1      NaN  \n",
       "\n",
       "[3 rows x 137 columns]"
      ]
     },
     "execution_count": 33,
     "metadata": {},
     "output_type": "execute_result"
    }
   ],
   "source": [
    "# Load the xls file's Sheet1 as a dataframe\n",
    "dfstart = xls_file.parse('Data')\n",
    "dfstart.head(3)"
   ]
  },
  {
   "cell_type": "code",
   "execution_count": 34,
   "metadata": {
    "collapsed": false
   },
   "outputs": [],
   "source": [
    "# Exporting my salary to a csv file\n",
    "\n",
    "# df.to_csv('example.csv')\n",
    "#ds_jobs.to_csv('ds3200_jobs.csv', header=True, index=False, encoding='utf-8')\n",
    "dfstart.to_csv('start.csv', header=True, index=False, encoding='utf-8')"
   ]
  },
  {
   "cell_type": "code",
   "execution_count": null,
   "metadata": {
    "collapsed": true
   },
   "outputs": [],
   "source": []
  },
  {
   "cell_type": "code",
   "execution_count": 96,
   "metadata": {
    "collapsed": false
   },
   "outputs": [
    {
     "data": {
      "text/html": [
       "<div>\n",
       "<table border=\"1\" class=\"dataframe\">\n",
       "  <thead>\n",
       "    <tr style=\"text-align: right;\">\n",
       "      <th></th>\n",
       "      <th>eventid</th>\n",
       "      <th>iyear</th>\n",
       "      <th>imonth</th>\n",
       "      <th>iday</th>\n",
       "      <th>approxdate</th>\n",
       "      <th>extended</th>\n",
       "      <th>resolution</th>\n",
       "      <th>country</th>\n",
       "      <th>country_txt</th>\n",
       "      <th>region</th>\n",
       "      <th>...</th>\n",
       "      <th>addnotes</th>\n",
       "      <th>scite1</th>\n",
       "      <th>scite2</th>\n",
       "      <th>scite3</th>\n",
       "      <th>dbsource</th>\n",
       "      <th>INT_LOG</th>\n",
       "      <th>INT_IDEO</th>\n",
       "      <th>INT_MISC</th>\n",
       "      <th>INT_ANY</th>\n",
       "      <th>related</th>\n",
       "    </tr>\n",
       "  </thead>\n",
       "  <tbody>\n",
       "    <tr>\n",
       "      <th>3</th>\n",
       "      <td>197001000002</td>\n",
       "      <td>1970</td>\n",
       "      <td>1</td>\n",
       "      <td>0</td>\n",
       "      <td>NaN</td>\n",
       "      <td>0</td>\n",
       "      <td>NaN</td>\n",
       "      <td>78</td>\n",
       "      <td>Greece</td>\n",
       "      <td>8</td>\n",
       "      <td>...</td>\n",
       "      <td>NaN</td>\n",
       "      <td>NaN</td>\n",
       "      <td>NaN</td>\n",
       "      <td>NaN</td>\n",
       "      <td>PGIS</td>\n",
       "      <td>-9</td>\n",
       "      <td>-9</td>\n",
       "      <td>1</td>\n",
       "      <td>1</td>\n",
       "      <td>NaN</td>\n",
       "    </tr>\n",
       "    <tr>\n",
       "      <th>12</th>\n",
       "      <td>197001080001</td>\n",
       "      <td>1970</td>\n",
       "      <td>1</td>\n",
       "      <td>8</td>\n",
       "      <td>NaN</td>\n",
       "      <td>0</td>\n",
       "      <td>NaN</td>\n",
       "      <td>98</td>\n",
       "      <td>Italy</td>\n",
       "      <td>8</td>\n",
       "      <td>...</td>\n",
       "      <td>NaN</td>\n",
       "      <td>NaN</td>\n",
       "      <td>NaN</td>\n",
       "      <td>NaN</td>\n",
       "      <td>Hijacking DB</td>\n",
       "      <td>-9</td>\n",
       "      <td>-9</td>\n",
       "      <td>1</td>\n",
       "      <td>1</td>\n",
       "      <td>NaN</td>\n",
       "    </tr>\n",
       "    <tr>\n",
       "      <th>59</th>\n",
       "      <td>197002100001</td>\n",
       "      <td>1970</td>\n",
       "      <td>2</td>\n",
       "      <td>10</td>\n",
       "      <td>NaN</td>\n",
       "      <td>0</td>\n",
       "      <td>NaN</td>\n",
       "      <td>362</td>\n",
       "      <td>West Germany (FRG)</td>\n",
       "      <td>8</td>\n",
       "      <td>...</td>\n",
       "      <td>NaN</td>\n",
       "      <td>NaN</td>\n",
       "      <td>NaN</td>\n",
       "      <td>NaN</td>\n",
       "      <td>PGIS</td>\n",
       "      <td>0</td>\n",
       "      <td>0</td>\n",
       "      <td>1</td>\n",
       "      <td>1</td>\n",
       "      <td>NaN</td>\n",
       "    </tr>\n",
       "    <tr>\n",
       "      <th>62</th>\n",
       "      <td>197002130002</td>\n",
       "      <td>1970</td>\n",
       "      <td>2</td>\n",
       "      <td>13</td>\n",
       "      <td>NaN</td>\n",
       "      <td>0</td>\n",
       "      <td>NaN</td>\n",
       "      <td>362</td>\n",
       "      <td>West Germany (FRG)</td>\n",
       "      <td>8</td>\n",
       "      <td>...</td>\n",
       "      <td>NaN</td>\n",
       "      <td>NaN</td>\n",
       "      <td>NaN</td>\n",
       "      <td>NaN</td>\n",
       "      <td>PGIS</td>\n",
       "      <td>0</td>\n",
       "      <td>1</td>\n",
       "      <td>1</td>\n",
       "      <td>1</td>\n",
       "      <td>NaN</td>\n",
       "    </tr>\n",
       "    <tr>\n",
       "      <th>79</th>\n",
       "      <td>197002210001</td>\n",
       "      <td>1970</td>\n",
       "      <td>2</td>\n",
       "      <td>21</td>\n",
       "      <td>NaN</td>\n",
       "      <td>0</td>\n",
       "      <td>NaN</td>\n",
       "      <td>362</td>\n",
       "      <td>West Germany (FRG)</td>\n",
       "      <td>8</td>\n",
       "      <td>...</td>\n",
       "      <td>NaN</td>\n",
       "      <td>NaN</td>\n",
       "      <td>NaN</td>\n",
       "      <td>NaN</td>\n",
       "      <td>PGIS</td>\n",
       "      <td>1</td>\n",
       "      <td>1</td>\n",
       "      <td>1</td>\n",
       "      <td>1</td>\n",
       "      <td>NaN</td>\n",
       "    </tr>\n",
       "    <tr>\n",
       "      <th>80</th>\n",
       "      <td>197002210002</td>\n",
       "      <td>1970</td>\n",
       "      <td>2</td>\n",
       "      <td>21</td>\n",
       "      <td>NaN</td>\n",
       "      <td>0</td>\n",
       "      <td>NaN</td>\n",
       "      <td>199</td>\n",
       "      <td>Switzerland</td>\n",
       "      <td>8</td>\n",
       "      <td>...</td>\n",
       "      <td>NaN</td>\n",
       "      <td>NaN</td>\n",
       "      <td>NaN</td>\n",
       "      <td>NaN</td>\n",
       "      <td>PGIS</td>\n",
       "      <td>1</td>\n",
       "      <td>1</td>\n",
       "      <td>0</td>\n",
       "      <td>1</td>\n",
       "      <td>NaN</td>\n",
       "    </tr>\n",
       "    <tr>\n",
       "      <th>97</th>\n",
       "      <td>197003010001</td>\n",
       "      <td>1970</td>\n",
       "      <td>3</td>\n",
       "      <td>1</td>\n",
       "      <td>NaN</td>\n",
       "      <td>0</td>\n",
       "      <td>NaN</td>\n",
       "      <td>98</td>\n",
       "      <td>Italy</td>\n",
       "      <td>8</td>\n",
       "      <td>...</td>\n",
       "      <td>NaN</td>\n",
       "      <td>NaN</td>\n",
       "      <td>NaN</td>\n",
       "      <td>NaN</td>\n",
       "      <td>PGIS</td>\n",
       "      <td>1</td>\n",
       "      <td>0</td>\n",
       "      <td>1</td>\n",
       "      <td>1</td>\n",
       "      <td>NaN</td>\n",
       "    </tr>\n",
       "    <tr>\n",
       "      <th>103</th>\n",
       "      <td>197003030001</td>\n",
       "      <td>1970</td>\n",
       "      <td>3</td>\n",
       "      <td>3</td>\n",
       "      <td>NaN</td>\n",
       "      <td>0</td>\n",
       "      <td>NaN</td>\n",
       "      <td>185</td>\n",
       "      <td>Spain</td>\n",
       "      <td>8</td>\n",
       "      <td>...</td>\n",
       "      <td>NaN</td>\n",
       "      <td>NaN</td>\n",
       "      <td>NaN</td>\n",
       "      <td>NaN</td>\n",
       "      <td>PGIS</td>\n",
       "      <td>0</td>\n",
       "      <td>1</td>\n",
       "      <td>0</td>\n",
       "      <td>1</td>\n",
       "      <td>NaN</td>\n",
       "    </tr>\n",
       "    <tr>\n",
       "      <th>120</th>\n",
       "      <td>197003100001</td>\n",
       "      <td>1970</td>\n",
       "      <td>3</td>\n",
       "      <td>10</td>\n",
       "      <td>NaN</td>\n",
       "      <td>0</td>\n",
       "      <td>NaN</td>\n",
       "      <td>362</td>\n",
       "      <td>West Germany (FRG)</td>\n",
       "      <td>8</td>\n",
       "      <td>...</td>\n",
       "      <td>NaN</td>\n",
       "      <td>NaN</td>\n",
       "      <td>NaN</td>\n",
       "      <td>NaN</td>\n",
       "      <td>PGIS</td>\n",
       "      <td>-9</td>\n",
       "      <td>-9</td>\n",
       "      <td>1</td>\n",
       "      <td>1</td>\n",
       "      <td>NaN</td>\n",
       "    </tr>\n",
       "    <tr>\n",
       "      <th>171</th>\n",
       "      <td>197004030001</td>\n",
       "      <td>1970</td>\n",
       "      <td>4</td>\n",
       "      <td>3</td>\n",
       "      <td>NaN</td>\n",
       "      <td>0</td>\n",
       "      <td>NaN</td>\n",
       "      <td>96</td>\n",
       "      <td>Ireland</td>\n",
       "      <td>8</td>\n",
       "      <td>...</td>\n",
       "      <td>NaN</td>\n",
       "      <td>NaN</td>\n",
       "      <td>NaN</td>\n",
       "      <td>NaN</td>\n",
       "      <td>CAIN</td>\n",
       "      <td>1</td>\n",
       "      <td>1</td>\n",
       "      <td>0</td>\n",
       "      <td>1</td>\n",
       "      <td>NaN</td>\n",
       "    </tr>\n",
       "    <tr>\n",
       "      <th>240</th>\n",
       "      <td>197004280001</td>\n",
       "      <td>1970</td>\n",
       "      <td>4</td>\n",
       "      <td>28</td>\n",
       "      <td>NaN</td>\n",
       "      <td>0</td>\n",
       "      <td>NaN</td>\n",
       "      <td>362</td>\n",
       "      <td>West Germany (FRG)</td>\n",
       "      <td>8</td>\n",
       "      <td>...</td>\n",
       "      <td>NaN</td>\n",
       "      <td>NaN</td>\n",
       "      <td>NaN</td>\n",
       "      <td>NaN</td>\n",
       "      <td>PGIS</td>\n",
       "      <td>0</td>\n",
       "      <td>1</td>\n",
       "      <td>1</td>\n",
       "      <td>1</td>\n",
       "      <td>NaN</td>\n",
       "    </tr>\n",
       "    <tr>\n",
       "      <th>277</th>\n",
       "      <td>197005120001</td>\n",
       "      <td>1970</td>\n",
       "      <td>5</td>\n",
       "      <td>12</td>\n",
       "      <td>NaN</td>\n",
       "      <td>0</td>\n",
       "      <td>NaN</td>\n",
       "      <td>199</td>\n",
       "      <td>Switzerland</td>\n",
       "      <td>8</td>\n",
       "      <td>...</td>\n",
       "      <td>NaN</td>\n",
       "      <td>NaN</td>\n",
       "      <td>NaN</td>\n",
       "      <td>NaN</td>\n",
       "      <td>PGIS</td>\n",
       "      <td>0</td>\n",
       "      <td>1</td>\n",
       "      <td>1</td>\n",
       "      <td>1</td>\n",
       "      <td>NaN</td>\n",
       "    </tr>\n",
       "    <tr>\n",
       "      <th>288</th>\n",
       "      <td>197005150001</td>\n",
       "      <td>1970</td>\n",
       "      <td>5</td>\n",
       "      <td>15</td>\n",
       "      <td>NaN</td>\n",
       "      <td>0</td>\n",
       "      <td>NaN</td>\n",
       "      <td>362</td>\n",
       "      <td>West Germany (FRG)</td>\n",
       "      <td>8</td>\n",
       "      <td>...</td>\n",
       "      <td>NaN</td>\n",
       "      <td>NaN</td>\n",
       "      <td>NaN</td>\n",
       "      <td>NaN</td>\n",
       "      <td>PGIS</td>\n",
       "      <td>-9</td>\n",
       "      <td>-9</td>\n",
       "      <td>1</td>\n",
       "      <td>1</td>\n",
       "      <td>NaN</td>\n",
       "    </tr>\n",
       "    <tr>\n",
       "      <th>290</th>\n",
       "      <td>197005150003</td>\n",
       "      <td>1970</td>\n",
       "      <td>5</td>\n",
       "      <td>15</td>\n",
       "      <td>NaN</td>\n",
       "      <td>0</td>\n",
       "      <td>NaN</td>\n",
       "      <td>362</td>\n",
       "      <td>West Germany (FRG)</td>\n",
       "      <td>8</td>\n",
       "      <td>...</td>\n",
       "      <td>NaN</td>\n",
       "      <td>NaN</td>\n",
       "      <td>NaN</td>\n",
       "      <td>NaN</td>\n",
       "      <td>PGIS</td>\n",
       "      <td>-9</td>\n",
       "      <td>-9</td>\n",
       "      <td>-9</td>\n",
       "      <td>-9</td>\n",
       "      <td>NaN</td>\n",
       "    </tr>\n",
       "    <tr>\n",
       "      <th>324</th>\n",
       "      <td>197006060002</td>\n",
       "      <td>1970</td>\n",
       "      <td>6</td>\n",
       "      <td>6</td>\n",
       "      <td>NaN</td>\n",
       "      <td>0</td>\n",
       "      <td>NaN</td>\n",
       "      <td>362</td>\n",
       "      <td>West Germany (FRG)</td>\n",
       "      <td>8</td>\n",
       "      <td>...</td>\n",
       "      <td>NaN</td>\n",
       "      <td>NaN</td>\n",
       "      <td>NaN</td>\n",
       "      <td>NaN</td>\n",
       "      <td>PGIS</td>\n",
       "      <td>0</td>\n",
       "      <td>1</td>\n",
       "      <td>1</td>\n",
       "      <td>1</td>\n",
       "      <td>NaN</td>\n",
       "    </tr>\n",
       "    <tr>\n",
       "      <th>325</th>\n",
       "      <td>197006060003</td>\n",
       "      <td>1970</td>\n",
       "      <td>6</td>\n",
       "      <td>6</td>\n",
       "      <td>NaN</td>\n",
       "      <td>0</td>\n",
       "      <td>NaN</td>\n",
       "      <td>362</td>\n",
       "      <td>West Germany (FRG)</td>\n",
       "      <td>8</td>\n",
       "      <td>...</td>\n",
       "      <td>NaN</td>\n",
       "      <td>NaN</td>\n",
       "      <td>NaN</td>\n",
       "      <td>NaN</td>\n",
       "      <td>PGIS</td>\n",
       "      <td>0</td>\n",
       "      <td>1</td>\n",
       "      <td>1</td>\n",
       "      <td>1</td>\n",
       "      <td>NaN</td>\n",
       "    </tr>\n",
       "    <tr>\n",
       "      <th>349</th>\n",
       "      <td>197006140001</td>\n",
       "      <td>1970</td>\n",
       "      <td>6</td>\n",
       "      <td>14</td>\n",
       "      <td>NaN</td>\n",
       "      <td>0</td>\n",
       "      <td>NaN</td>\n",
       "      <td>362</td>\n",
       "      <td>West Germany (FRG)</td>\n",
       "      <td>8</td>\n",
       "      <td>...</td>\n",
       "      <td>NaN</td>\n",
       "      <td>NaN</td>\n",
       "      <td>NaN</td>\n",
       "      <td>NaN</td>\n",
       "      <td>PGIS</td>\n",
       "      <td>-9</td>\n",
       "      <td>-9</td>\n",
       "      <td>1</td>\n",
       "      <td>1</td>\n",
       "      <td>NaN</td>\n",
       "    </tr>\n",
       "    <tr>\n",
       "      <th>350</th>\n",
       "      <td>197006140002</td>\n",
       "      <td>1970</td>\n",
       "      <td>6</td>\n",
       "      <td>14</td>\n",
       "      <td>NaN</td>\n",
       "      <td>0</td>\n",
       "      <td>NaN</td>\n",
       "      <td>362</td>\n",
       "      <td>West Germany (FRG)</td>\n",
       "      <td>8</td>\n",
       "      <td>...</td>\n",
       "      <td>NaN</td>\n",
       "      <td>NaN</td>\n",
       "      <td>NaN</td>\n",
       "      <td>NaN</td>\n",
       "      <td>PGIS</td>\n",
       "      <td>-9</td>\n",
       "      <td>-9</td>\n",
       "      <td>1</td>\n",
       "      <td>1</td>\n",
       "      <td>NaN</td>\n",
       "    </tr>\n",
       "    <tr>\n",
       "      <th>360</th>\n",
       "      <td>197006230001</td>\n",
       "      <td>1970</td>\n",
       "      <td>6</td>\n",
       "      <td>23</td>\n",
       "      <td>NaN</td>\n",
       "      <td>0</td>\n",
       "      <td>NaN</td>\n",
       "      <td>362</td>\n",
       "      <td>West Germany (FRG)</td>\n",
       "      <td>8</td>\n",
       "      <td>...</td>\n",
       "      <td>NaN</td>\n",
       "      <td>NaN</td>\n",
       "      <td>NaN</td>\n",
       "      <td>NaN</td>\n",
       "      <td>PGIS</td>\n",
       "      <td>-9</td>\n",
       "      <td>-9</td>\n",
       "      <td>1</td>\n",
       "      <td>1</td>\n",
       "      <td>NaN</td>\n",
       "    </tr>\n",
       "    <tr>\n",
       "      <th>364</th>\n",
       "      <td>197006260001</td>\n",
       "      <td>1970</td>\n",
       "      <td>6</td>\n",
       "      <td>26</td>\n",
       "      <td>NaN</td>\n",
       "      <td>0</td>\n",
       "      <td>NaN</td>\n",
       "      <td>603</td>\n",
       "      <td>United Kingdom</td>\n",
       "      <td>8</td>\n",
       "      <td>...</td>\n",
       "      <td>NaN</td>\n",
       "      <td>NaN</td>\n",
       "      <td>NaN</td>\n",
       "      <td>NaN</td>\n",
       "      <td>CAIN</td>\n",
       "      <td>0</td>\n",
       "      <td>0</td>\n",
       "      <td>1</td>\n",
       "      <td>1</td>\n",
       "      <td>NaN</td>\n",
       "    </tr>\n",
       "    <tr>\n",
       "      <th>365</th>\n",
       "      <td>197006270001</td>\n",
       "      <td>1970</td>\n",
       "      <td>6</td>\n",
       "      <td>27</td>\n",
       "      <td>NaN</td>\n",
       "      <td>0</td>\n",
       "      <td>NaN</td>\n",
       "      <td>603</td>\n",
       "      <td>United Kingdom</td>\n",
       "      <td>8</td>\n",
       "      <td>...</td>\n",
       "      <td>NaN</td>\n",
       "      <td>NaN</td>\n",
       "      <td>NaN</td>\n",
       "      <td>NaN</td>\n",
       "      <td>CAIN</td>\n",
       "      <td>0</td>\n",
       "      <td>0</td>\n",
       "      <td>1</td>\n",
       "      <td>1</td>\n",
       "      <td>NaN</td>\n",
       "    </tr>\n",
       "    <tr>\n",
       "      <th>366</th>\n",
       "      <td>197006270002</td>\n",
       "      <td>1970</td>\n",
       "      <td>6</td>\n",
       "      <td>27</td>\n",
       "      <td>NaN</td>\n",
       "      <td>0</td>\n",
       "      <td>NaN</td>\n",
       "      <td>603</td>\n",
       "      <td>United Kingdom</td>\n",
       "      <td>8</td>\n",
       "      <td>...</td>\n",
       "      <td>NaN</td>\n",
       "      <td>NaN</td>\n",
       "      <td>NaN</td>\n",
       "      <td>NaN</td>\n",
       "      <td>CAIN</td>\n",
       "      <td>0</td>\n",
       "      <td>0</td>\n",
       "      <td>1</td>\n",
       "      <td>1</td>\n",
       "      <td>NaN</td>\n",
       "    </tr>\n",
       "    <tr>\n",
       "      <th>367</th>\n",
       "      <td>197006270003</td>\n",
       "      <td>1970</td>\n",
       "      <td>6</td>\n",
       "      <td>27</td>\n",
       "      <td>NaN</td>\n",
       "      <td>0</td>\n",
       "      <td>NaN</td>\n",
       "      <td>603</td>\n",
       "      <td>United Kingdom</td>\n",
       "      <td>8</td>\n",
       "      <td>...</td>\n",
       "      <td>NaN</td>\n",
       "      <td>NaN</td>\n",
       "      <td>NaN</td>\n",
       "      <td>NaN</td>\n",
       "      <td>CAIN</td>\n",
       "      <td>0</td>\n",
       "      <td>0</td>\n",
       "      <td>1</td>\n",
       "      <td>1</td>\n",
       "      <td>NaN</td>\n",
       "    </tr>\n",
       "    <tr>\n",
       "      <th>368</th>\n",
       "      <td>197006270004</td>\n",
       "      <td>1970</td>\n",
       "      <td>6</td>\n",
       "      <td>27</td>\n",
       "      <td>NaN</td>\n",
       "      <td>0</td>\n",
       "      <td>NaN</td>\n",
       "      <td>603</td>\n",
       "      <td>United Kingdom</td>\n",
       "      <td>8</td>\n",
       "      <td>...</td>\n",
       "      <td>NaN</td>\n",
       "      <td>NaN</td>\n",
       "      <td>NaN</td>\n",
       "      <td>NaN</td>\n",
       "      <td>CAIN</td>\n",
       "      <td>0</td>\n",
       "      <td>0</td>\n",
       "      <td>1</td>\n",
       "      <td>1</td>\n",
       "      <td>NaN</td>\n",
       "    </tr>\n",
       "    <tr>\n",
       "      <th>403</th>\n",
       "      <td>197007090001</td>\n",
       "      <td>1970</td>\n",
       "      <td>7</td>\n",
       "      <td>9</td>\n",
       "      <td>NaN</td>\n",
       "      <td>0</td>\n",
       "      <td>NaN</td>\n",
       "      <td>362</td>\n",
       "      <td>West Germany (FRG)</td>\n",
       "      <td>8</td>\n",
       "      <td>...</td>\n",
       "      <td>NaN</td>\n",
       "      <td>NaN</td>\n",
       "      <td>NaN</td>\n",
       "      <td>NaN</td>\n",
       "      <td>PGIS</td>\n",
       "      <td>-9</td>\n",
       "      <td>-9</td>\n",
       "      <td>1</td>\n",
       "      <td>1</td>\n",
       "      <td>NaN</td>\n",
       "    </tr>\n",
       "  </tbody>\n",
       "</table>\n",
       "<p>25 rows × 137 columns</p>\n",
       "</div>"
      ],
      "text/plain": [
       "          eventid  iyear  imonth  iday approxdate  extended resolution  \\\n",
       "3    197001000002   1970       1     0        NaN         0        NaN   \n",
       "12   197001080001   1970       1     8        NaN         0        NaN   \n",
       "59   197002100001   1970       2    10        NaN         0        NaN   \n",
       "62   197002130002   1970       2    13        NaN         0        NaN   \n",
       "79   197002210001   1970       2    21        NaN         0        NaN   \n",
       "80   197002210002   1970       2    21        NaN         0        NaN   \n",
       "97   197003010001   1970       3     1        NaN         0        NaN   \n",
       "103  197003030001   1970       3     3        NaN         0        NaN   \n",
       "120  197003100001   1970       3    10        NaN         0        NaN   \n",
       "171  197004030001   1970       4     3        NaN         0        NaN   \n",
       "240  197004280001   1970       4    28        NaN         0        NaN   \n",
       "277  197005120001   1970       5    12        NaN         0        NaN   \n",
       "288  197005150001   1970       5    15        NaN         0        NaN   \n",
       "290  197005150003   1970       5    15        NaN         0        NaN   \n",
       "324  197006060002   1970       6     6        NaN         0        NaN   \n",
       "325  197006060003   1970       6     6        NaN         0        NaN   \n",
       "349  197006140001   1970       6    14        NaN         0        NaN   \n",
       "350  197006140002   1970       6    14        NaN         0        NaN   \n",
       "360  197006230001   1970       6    23        NaN         0        NaN   \n",
       "364  197006260001   1970       6    26        NaN         0        NaN   \n",
       "365  197006270001   1970       6    27        NaN         0        NaN   \n",
       "366  197006270002   1970       6    27        NaN         0        NaN   \n",
       "367  197006270003   1970       6    27        NaN         0        NaN   \n",
       "368  197006270004   1970       6    27        NaN         0        NaN   \n",
       "403  197007090001   1970       7     9        NaN         0        NaN   \n",
       "\n",
       "     country         country_txt  region   ...    addnotes scite1 scite2  \\\n",
       "3         78              Greece       8   ...         NaN    NaN    NaN   \n",
       "12        98               Italy       8   ...         NaN    NaN    NaN   \n",
       "59       362  West Germany (FRG)       8   ...         NaN    NaN    NaN   \n",
       "62       362  West Germany (FRG)       8   ...         NaN    NaN    NaN   \n",
       "79       362  West Germany (FRG)       8   ...         NaN    NaN    NaN   \n",
       "80       199         Switzerland       8   ...         NaN    NaN    NaN   \n",
       "97        98               Italy       8   ...         NaN    NaN    NaN   \n",
       "103      185               Spain       8   ...         NaN    NaN    NaN   \n",
       "120      362  West Germany (FRG)       8   ...         NaN    NaN    NaN   \n",
       "171       96             Ireland       8   ...         NaN    NaN    NaN   \n",
       "240      362  West Germany (FRG)       8   ...         NaN    NaN    NaN   \n",
       "277      199         Switzerland       8   ...         NaN    NaN    NaN   \n",
       "288      362  West Germany (FRG)       8   ...         NaN    NaN    NaN   \n",
       "290      362  West Germany (FRG)       8   ...         NaN    NaN    NaN   \n",
       "324      362  West Germany (FRG)       8   ...         NaN    NaN    NaN   \n",
       "325      362  West Germany (FRG)       8   ...         NaN    NaN    NaN   \n",
       "349      362  West Germany (FRG)       8   ...         NaN    NaN    NaN   \n",
       "350      362  West Germany (FRG)       8   ...         NaN    NaN    NaN   \n",
       "360      362  West Germany (FRG)       8   ...         NaN    NaN    NaN   \n",
       "364      603      United Kingdom       8   ...         NaN    NaN    NaN   \n",
       "365      603      United Kingdom       8   ...         NaN    NaN    NaN   \n",
       "366      603      United Kingdom       8   ...         NaN    NaN    NaN   \n",
       "367      603      United Kingdom       8   ...         NaN    NaN    NaN   \n",
       "368      603      United Kingdom       8   ...         NaN    NaN    NaN   \n",
       "403      362  West Germany (FRG)       8   ...         NaN    NaN    NaN   \n",
       "\n",
       "     scite3      dbsource  INT_LOG  INT_IDEO INT_MISC INT_ANY  related  \n",
       "3       NaN          PGIS       -9        -9        1       1      NaN  \n",
       "12      NaN  Hijacking DB       -9        -9        1       1      NaN  \n",
       "59      NaN          PGIS        0         0        1       1      NaN  \n",
       "62      NaN          PGIS        0         1        1       1      NaN  \n",
       "79      NaN          PGIS        1         1        1       1      NaN  \n",
       "80      NaN          PGIS        1         1        0       1      NaN  \n",
       "97      NaN          PGIS        1         0        1       1      NaN  \n",
       "103     NaN          PGIS        0         1        0       1      NaN  \n",
       "120     NaN          PGIS       -9        -9        1       1      NaN  \n",
       "171     NaN          CAIN        1         1        0       1      NaN  \n",
       "240     NaN          PGIS        0         1        1       1      NaN  \n",
       "277     NaN          PGIS        0         1        1       1      NaN  \n",
       "288     NaN          PGIS       -9        -9        1       1      NaN  \n",
       "290     NaN          PGIS       -9        -9       -9      -9      NaN  \n",
       "324     NaN          PGIS        0         1        1       1      NaN  \n",
       "325     NaN          PGIS        0         1        1       1      NaN  \n",
       "349     NaN          PGIS       -9        -9        1       1      NaN  \n",
       "350     NaN          PGIS       -9        -9        1       1      NaN  \n",
       "360     NaN          PGIS       -9        -9        1       1      NaN  \n",
       "364     NaN          CAIN        0         0        1       1      NaN  \n",
       "365     NaN          CAIN        0         0        1       1      NaN  \n",
       "366     NaN          CAIN        0         0        1       1      NaN  \n",
       "367     NaN          CAIN        0         0        1       1      NaN  \n",
       "368     NaN          CAIN        0         0        1       1      NaN  \n",
       "403     NaN          PGIS       -9        -9        1       1      NaN  \n",
       "\n",
       "[25 rows x 137 columns]"
      ]
     },
     "execution_count": 96,
     "metadata": {},
     "output_type": "execute_result"
    }
   ],
   "source": [
    "## creating new western europe df to make my prior. western europe is region 8 in the GTD \n",
    "\n",
    "eurogtd = dfstart[(dfstart.region == 8)]\n",
    "eurogtd.head(25)"
   ]
  },
  {
   "cell_type": "code",
   "execution_count": 36,
   "metadata": {
    "collapsed": false
   },
   "outputs": [
    {
     "data": {
      "text/plain": [
       "(16020, 137)"
      ]
     },
     "execution_count": 36,
     "metadata": {},
     "output_type": "execute_result"
    }
   ],
   "source": [
    "eurogtd.shape"
   ]
  },
  {
   "cell_type": "code",
   "execution_count": 53,
   "metadata": {
    "collapsed": false
   },
   "outputs": [],
   "source": [
    "## line to keep certain columns\n",
    "##     df1 = df[['a','d']]\n",
    "## creating new df to keep columns I need\n",
    "#dfun2 = dfun[['Year', 'Country / territory of asylum/residence', \n",
    "#              'Origin', 'Refugees (incl. refugee-like situations)', 'Asylum-seekers (pending cases)']]\n",
    "## creating new df of western europe that only has the columns I need.\n",
    "wegtd = eurogtd[[u'iyear', u'imonth',\n",
    " u'country_txt', u'city',\n",
    " u'latitude',\n",
    " u'longitude',\n",
    " u'attacktype1',\n",
    " u'attacktype1_txt',\n",
    " u'targtype1',\n",
    " u'targtype1_txt',\n",
    " u'gsubname', u'motive', u'property', u'propextent_txt']]\n",
    "\n",
    "\n",
    "#wegtd.shape"
   ]
  },
  {
   "cell_type": "code",
   "execution_count": 54,
   "metadata": {
    "collapsed": false,
    "scrolled": true
   },
   "outputs": [
    {
     "data": {
      "text/html": [
       "<div>\n",
       "<table border=\"1\" class=\"dataframe\">\n",
       "  <thead>\n",
       "    <tr style=\"text-align: right;\">\n",
       "      <th></th>\n",
       "      <th>iyear</th>\n",
       "      <th>imonth</th>\n",
       "      <th>country_txt</th>\n",
       "      <th>city</th>\n",
       "      <th>latitude</th>\n",
       "      <th>longitude</th>\n",
       "      <th>attacktype1</th>\n",
       "      <th>attacktype1_txt</th>\n",
       "      <th>targtype1</th>\n",
       "      <th>targtype1_txt</th>\n",
       "      <th>gsubname</th>\n",
       "      <th>motive</th>\n",
       "      <th>property</th>\n",
       "      <th>propextent_txt</th>\n",
       "    </tr>\n",
       "  </thead>\n",
       "  <tbody>\n",
       "    <tr>\n",
       "      <th>3</th>\n",
       "      <td>1970</td>\n",
       "      <td>1</td>\n",
       "      <td>Greece</td>\n",
       "      <td>Athens</td>\n",
       "      <td>37.983773</td>\n",
       "      <td>23.728157</td>\n",
       "      <td>3</td>\n",
       "      <td>Bombing/Explosion</td>\n",
       "      <td>7</td>\n",
       "      <td>Government (Diplomatic)</td>\n",
       "      <td>NaN</td>\n",
       "      <td>NaN</td>\n",
       "      <td>1</td>\n",
       "      <td>.</td>\n",
       "    </tr>\n",
       "    <tr>\n",
       "      <th>12</th>\n",
       "      <td>1970</td>\n",
       "      <td>1</td>\n",
       "      <td>Italy</td>\n",
       "      <td>Rome</td>\n",
       "      <td>41.890520</td>\n",
       "      <td>12.494249</td>\n",
       "      <td>4</td>\n",
       "      <td>Hijacking</td>\n",
       "      <td>6</td>\n",
       "      <td>Airports &amp; Aircraft</td>\n",
       "      <td>NaN</td>\n",
       "      <td>NaN</td>\n",
       "      <td>0</td>\n",
       "      <td>.</td>\n",
       "    </tr>\n",
       "    <tr>\n",
       "      <th>59</th>\n",
       "      <td>1970</td>\n",
       "      <td>2</td>\n",
       "      <td>West Germany (FRG)</td>\n",
       "      <td>Munich</td>\n",
       "      <td>48.139126</td>\n",
       "      <td>11.580186</td>\n",
       "      <td>2</td>\n",
       "      <td>Armed Assault</td>\n",
       "      <td>6</td>\n",
       "      <td>Airports &amp; Aircraft</td>\n",
       "      <td>NaN</td>\n",
       "      <td>NaN</td>\n",
       "      <td>1</td>\n",
       "      <td>Minor (likely &lt; $1 million)</td>\n",
       "    </tr>\n",
       "  </tbody>\n",
       "</table>\n",
       "</div>"
      ],
      "text/plain": [
       "    iyear  imonth         country_txt    city   latitude  longitude  \\\n",
       "3    1970       1              Greece  Athens  37.983773  23.728157   \n",
       "12   1970       1               Italy    Rome  41.890520  12.494249   \n",
       "59   1970       2  West Germany (FRG)  Munich  48.139126  11.580186   \n",
       "\n",
       "    attacktype1    attacktype1_txt  targtype1            targtype1_txt  \\\n",
       "3             3  Bombing/Explosion          7  Government (Diplomatic)   \n",
       "12            4          Hijacking          6      Airports & Aircraft   \n",
       "59            2      Armed Assault          6      Airports & Aircraft   \n",
       "\n",
       "   gsubname motive  property               propextent_txt  \n",
       "3       NaN    NaN         1                            .  \n",
       "12      NaN    NaN         0                            .  \n",
       "59      NaN    NaN         1  Minor (likely < $1 million)  "
      ]
     },
     "execution_count": 54,
     "metadata": {},
     "output_type": "execute_result"
    }
   ],
   "source": [
    "wegtd.head(3)"
   ]
  },
  {
   "cell_type": "code",
   "execution_count": 55,
   "metadata": {
    "collapsed": false
   },
   "outputs": [
    {
     "data": {
      "text/plain": [
       "Index([u'iyear', u'imonth', u'country_txt', u'city', u'latitude', u'longitude',\n",
       "       u'attacktype1', u'attacktype1_txt', u'targtype1', u'targtype1_txt',\n",
       "       u'gsubname', u'motive', u'property', u'propextent_txt'],\n",
       "      dtype='object')"
      ]
     },
     "execution_count": 55,
     "metadata": {},
     "output_type": "execute_result"
    }
   ],
   "source": [
    "wegtd.columns"
   ]
  },
  {
   "cell_type": "code",
   "execution_count": 56,
   "metadata": {
    "collapsed": false
   },
   "outputs": [],
   "source": [
    "wegtd = wegtd.drop([ u'imonth', u'city', u'latitude', u'longitude',\n",
    "         u'attacktype1_txt', u'targtype1', u'targtype1_txt',\n",
    "       u'gsubname', u'motive', u'property', u'propextent_txt'], axis=1)"
   ]
  },
  {
   "cell_type": "code",
   "execution_count": 57,
   "metadata": {
    "collapsed": true
   },
   "outputs": [],
   "source": [
    "## df_no_99 = df_no_99[df_no_99.IndividualRate !=999999.00]\n",
    "wegtd = wegtd[wegtd.iyear > 1999]\n"
   ]
  },
  {
   "cell_type": "code",
   "execution_count": null,
   "metadata": {
    "collapsed": true
   },
   "outputs": [],
   "source": []
  },
  {
   "cell_type": "code",
   "execution_count": 101,
   "metadata": {
    "collapsed": false
   },
   "outputs": [
    {
     "data": {
      "text/plain": [
       "0"
      ]
     },
     "execution_count": 101,
     "metadata": {},
     "output_type": "execute_result"
    }
   ],
   "source": [
    "wegtd.Attacks.isnull().sum()"
   ]
  },
  {
   "cell_type": "code",
   "execution_count": 58,
   "metadata": {
    "collapsed": true
   },
   "outputs": [],
   "source": [
    "wegtd = wegtd[wegtd.iyear !=2015]\n"
   ]
  },
  {
   "cell_type": "code",
   "execution_count": 103,
   "metadata": {
    "collapsed": false
   },
   "outputs": [],
   "source": [
    "wegtd = wegtd.groupby(['Year', 'Country'],as_index=False).Attacks.sum()"
   ]
  },
  {
   "cell_type": "code",
   "execution_count": 99,
   "metadata": {
    "collapsed": false
   },
   "outputs": [
    {
     "data": {
      "text/html": [
       "<div>\n",
       "<table border=\"1\" class=\"dataframe\">\n",
       "  <thead>\n",
       "    <tr style=\"text-align: right;\">\n",
       "      <th></th>\n",
       "      <th>Year</th>\n",
       "      <th>Country</th>\n",
       "      <th>Attacks</th>\n",
       "    </tr>\n",
       "  </thead>\n",
       "  <tbody>\n",
       "    <tr>\n",
       "      <th>141851</th>\n",
       "      <td>2014</td>\n",
       "      <td>United Kingdom</td>\n",
       "      <td>7</td>\n",
       "    </tr>\n",
       "    <tr>\n",
       "      <th>141958</th>\n",
       "      <td>2014</td>\n",
       "      <td>United Kingdom</td>\n",
       "      <td>7</td>\n",
       "    </tr>\n",
       "    <tr>\n",
       "      <th>141959</th>\n",
       "      <td>2014</td>\n",
       "      <td>Ireland</td>\n",
       "      <td>7</td>\n",
       "    </tr>\n",
       "  </tbody>\n",
       "</table>\n",
       "</div>"
      ],
      "text/plain": [
       "        Year         Country  Attacks\n",
       "141851  2014  United Kingdom        7\n",
       "141958  2014  United Kingdom        7\n",
       "141959  2014         Ireland        7"
      ]
     },
     "execution_count": 99,
     "metadata": {},
     "output_type": "execute_result"
    }
   ],
   "source": [
    "wegtd.tail(3)"
   ]
  },
  {
   "cell_type": "code",
   "execution_count": 61,
   "metadata": {
    "collapsed": false
   },
   "outputs": [
    {
     "data": {
      "text/plain": [
       "(2282, 3)"
      ]
     },
     "execution_count": 61,
     "metadata": {},
     "output_type": "execute_result"
    }
   ],
   "source": [
    "wegtd.shape"
   ]
  },
  {
   "cell_type": "code",
   "execution_count": 62,
   "metadata": {
    "collapsed": true
   },
   "outputs": [],
   "source": [
    "wegtd.columns = ['Year','Country','Attacks']"
   ]
  },
  {
   "cell_type": "code",
   "execution_count": 63,
   "metadata": {
    "collapsed": false
   },
   "outputs": [
    {
     "data": {
      "text/html": [
       "<div>\n",
       "<table border=\"1\" class=\"dataframe\">\n",
       "  <thead>\n",
       "    <tr style=\"text-align: right;\">\n",
       "      <th></th>\n",
       "      <th>Year</th>\n",
       "      <th>Country</th>\n",
       "      <th>Attacks</th>\n",
       "    </tr>\n",
       "  </thead>\n",
       "  <tbody>\n",
       "    <tr>\n",
       "      <th>69771</th>\n",
       "      <td>2000</td>\n",
       "      <td>Spain</td>\n",
       "      <td>2</td>\n",
       "    </tr>\n",
       "    <tr>\n",
       "      <th>69772</th>\n",
       "      <td>2000</td>\n",
       "      <td>Spain</td>\n",
       "      <td>2</td>\n",
       "    </tr>\n",
       "    <tr>\n",
       "      <th>69790</th>\n",
       "      <td>2000</td>\n",
       "      <td>Germany</td>\n",
       "      <td>2</td>\n",
       "    </tr>\n",
       "  </tbody>\n",
       "</table>\n",
       "</div>"
      ],
      "text/plain": [
       "       Year  Country  Attacks\n",
       "69771  2000    Spain        2\n",
       "69772  2000    Spain        2\n",
       "69790  2000  Germany        2"
      ]
     },
     "execution_count": 63,
     "metadata": {},
     "output_type": "execute_result"
    }
   ],
   "source": [
    "wegtd.head(3)"
   ]
  },
  {
   "cell_type": "code",
   "execution_count": 11,
   "metadata": {
    "collapsed": true
   },
   "outputs": [],
   "source": [
    "## pulling Germany data and making it into its own df called gerdf\n",
    "gerdf = dfstart[dfstart.country_txt=='Germany']"
   ]
  },
  {
   "cell_type": "code",
   "execution_count": 12,
   "metadata": {
    "collapsed": true
   },
   "outputs": [],
   "source": [
    "import matplotlib.pyplot as plt\n",
    "import seaborn as sns\n"
   ]
  },
  {
   "cell_type": "code",
   "execution_count": 13,
   "metadata": {
    "collapsed": false
   },
   "outputs": [
    {
     "data": {
      "image/png": "[encoded data removed]",
      "text/plain": [
       "<matplotlib.figure.Figure at 0x13b73bb10>"
      ]
     },
     "metadata": {},
     "output_type": "display_data"
    }
   ],
   "source": [
    "plt.hist(gerdf['iyear'])\n",
    "plt.xlabel(\"Year\")\n",
    "plt.title(\"Terrorist Attacks in Germany\")\n",
    "plt.ylabel(\"Number of Attacks\")\n",
    "plt.show()"
   ]
  },
  {
   "cell_type": "code",
   "execution_count": 14,
   "metadata": {
    "collapsed": true
   },
   "outputs": [],
   "source": [
    "swedf = dfstart[dfstart.country_txt=='Sweden']"
   ]
  },
  {
   "cell_type": "code",
   "execution_count": 15,
   "metadata": {
    "collapsed": false
   },
   "outputs": [
    {
     "data": {
      "image/png": "[encoded data removed]",
      "text/plain": [
       "<matplotlib.figure.Figure at 0x13b73b410>"
      ]
     },
     "metadata": {},
     "output_type": "display_data"
    }
   ],
   "source": [
    "plt.hist(swedf['iyear'])\n",
    "plt.xlabel(\"Year\")\n",
    "plt.title(\"Terrorist Attacks in Sweden 1970-2015\")\n",
    "plt.ylabel(\"Number of Attacks\")\n",
    "plt.show()"
   ]
  },
  {
   "cell_type": "code",
   "execution_count": 192,
   "metadata": {
    "collapsed": false,
    "scrolled": false
   },
   "outputs": [
    {
     "data": {
      "text/html": [
       "<div>\n",
       "<table border=\"1\" class=\"dataframe\">\n",
       "  <thead>\n",
       "    <tr style=\"text-align: right;\">\n",
       "      <th></th>\n",
       "      <th>Year</th>\n",
       "      <th>Country / territory of asylum/residence</th>\n",
       "      <th>Origin</th>\n",
       "      <th>Refugees (incl. refugee-like situations)</th>\n",
       "      <th>Asylum-seekers (pending cases)</th>\n",
       "      <th>Returned refugees</th>\n",
       "      <th>Internally displaced persons (IDPs)</th>\n",
       "      <th>Returned IDPs</th>\n",
       "      <th>Stateless persons</th>\n",
       "      <th>Others of concern</th>\n",
       "      <th>Total Population</th>\n",
       "    </tr>\n",
       "  </thead>\n",
       "  <tbody>\n",
       "    <tr>\n",
       "      <th>103743</th>\n",
       "      <td>2014</td>\n",
       "      <td>Zimbabwe</td>\n",
       "      <td>Uganda</td>\n",
       "      <td>8</td>\n",
       "      <td>*</td>\n",
       "      <td>NaN</td>\n",
       "      <td>NaN</td>\n",
       "      <td>NaN</td>\n",
       "      <td>NaN</td>\n",
       "      <td>NaN</td>\n",
       "      <td>12</td>\n",
       "    </tr>\n",
       "    <tr>\n",
       "      <th>103744</th>\n",
       "      <td>2014</td>\n",
       "      <td>Zimbabwe</td>\n",
       "      <td>South Africa</td>\n",
       "      <td>*</td>\n",
       "      <td>NaN</td>\n",
       "      <td>NaN</td>\n",
       "      <td>NaN</td>\n",
       "      <td>NaN</td>\n",
       "      <td>NaN</td>\n",
       "      <td>NaN</td>\n",
       "      <td>*</td>\n",
       "    </tr>\n",
       "    <tr>\n",
       "      <th>103745</th>\n",
       "      <td>2014</td>\n",
       "      <td>Zimbabwe</td>\n",
       "      <td>Zimbabwe</td>\n",
       "      <td>NaN</td>\n",
       "      <td>NaN</td>\n",
       "      <td>NaN</td>\n",
       "      <td>NaN</td>\n",
       "      <td>NaN</td>\n",
       "      <td>NaN</td>\n",
       "      <td>116</td>\n",
       "      <td>116</td>\n",
       "    </tr>\n",
       "  </tbody>\n",
       "</table>\n",
       "</div>"
      ],
      "text/plain": [
       "        Year Country / territory of asylum/residence        Origin  \\\n",
       "103743  2014                                Zimbabwe        Uganda   \n",
       "103744  2014                                Zimbabwe  South Africa   \n",
       "103745  2014                                Zimbabwe      Zimbabwe   \n",
       "\n",
       "       Refugees (incl. refugee-like situations)  \\\n",
       "103743                                        8   \n",
       "103744                                        *   \n",
       "103745                                      NaN   \n",
       "\n",
       "       Asylum-seekers (pending cases) Returned refugees  \\\n",
       "103743                              *               NaN   \n",
       "103744                            NaN               NaN   \n",
       "103745                            NaN               NaN   \n",
       "\n",
       "        Internally displaced persons (IDPs)  Returned IDPs Stateless persons  \\\n",
       "103743                                  NaN            NaN               NaN   \n",
       "103744                                  NaN            NaN               NaN   \n",
       "103745                                  NaN            NaN               NaN   \n",
       "\n",
       "       Others of concern Total Population  \n",
       "103743               NaN               12  \n",
       "103744               NaN                *  \n",
       "103745               116              116  "
      ]
     },
     "execution_count": 192,
     "metadata": {},
     "output_type": "execute_result"
    }
   ],
   "source": [
    "## Reading in the United Nations High Commissioner for Refugees - available at http://popstats.unhcr.org/en/overview\n",
    "\n",
    "dfun = pd.read_csv('unhcr_popstats_export_persons_of_concern_all_data.csv', skiprows=2)\n",
    "dfun.tail(3)"
   ]
  },
  {
   "cell_type": "code",
   "execution_count": 193,
   "metadata": {
    "collapsed": false
   },
   "outputs": [
    {
     "data": {
      "text/plain": [
       "['Year',\n",
       " 'Country / territory of asylum/residence',\n",
       " 'Origin',\n",
       " 'Refugees (incl. refugee-like situations)',\n",
       " 'Asylum-seekers (pending cases)',\n",
       " 'Returned refugees',\n",
       " 'Internally displaced persons (IDPs)',\n",
       " 'Returned IDPs',\n",
       " 'Stateless persons',\n",
       " 'Others of concern',\n",
       " 'Total Population']"
      ]
     },
     "execution_count": 193,
     "metadata": {},
     "output_type": "execute_result"
    }
   ],
   "source": [
    "list(dfun)"
   ]
  },
  {
   "cell_type": "code",
   "execution_count": 194,
   "metadata": {
    "collapsed": true
   },
   "outputs": [],
   "source": [
    "# creating a new df - dfun2 that will carry only the first 5 columns of the original df\n",
    "\n",
    "dfun2 = dfun.iloc[:,:5]"
   ]
  },
  {
   "cell_type": "code",
   "execution_count": 195,
   "metadata": {
    "collapsed": false
   },
   "outputs": [
    {
     "data": {
      "text/html": [
       "<div>\n",
       "<table border=\"1\" class=\"dataframe\">\n",
       "  <thead>\n",
       "    <tr style=\"text-align: right;\">\n",
       "      <th></th>\n",
       "      <th>Year</th>\n",
       "      <th>Country / territory of asylum/residence</th>\n",
       "      <th>Origin</th>\n",
       "      <th>Refugees (incl. refugee-like situations)</th>\n",
       "      <th>Asylum-seekers (pending cases)</th>\n",
       "    </tr>\n",
       "  </thead>\n",
       "  <tbody>\n",
       "    <tr>\n",
       "      <th>103743</th>\n",
       "      <td>2014</td>\n",
       "      <td>Zimbabwe</td>\n",
       "      <td>Uganda</td>\n",
       "      <td>8</td>\n",
       "      <td>*</td>\n",
       "    </tr>\n",
       "    <tr>\n",
       "      <th>103744</th>\n",
       "      <td>2014</td>\n",
       "      <td>Zimbabwe</td>\n",
       "      <td>South Africa</td>\n",
       "      <td>*</td>\n",
       "      <td>NaN</td>\n",
       "    </tr>\n",
       "    <tr>\n",
       "      <th>103745</th>\n",
       "      <td>2014</td>\n",
       "      <td>Zimbabwe</td>\n",
       "      <td>Zimbabwe</td>\n",
       "      <td>NaN</td>\n",
       "      <td>NaN</td>\n",
       "    </tr>\n",
       "  </tbody>\n",
       "</table>\n",
       "</div>"
      ],
      "text/plain": [
       "        Year Country / territory of asylum/residence        Origin  \\\n",
       "103743  2014                                Zimbabwe        Uganda   \n",
       "103744  2014                                Zimbabwe  South Africa   \n",
       "103745  2014                                Zimbabwe      Zimbabwe   \n",
       "\n",
       "       Refugees (incl. refugee-like situations) Asylum-seekers (pending cases)  \n",
       "103743                                        8                              *  \n",
       "103744                                        *                            NaN  \n",
       "103745                                      NaN                            NaN  "
      ]
     },
     "execution_count": 195,
     "metadata": {},
     "output_type": "execute_result"
    }
   ],
   "source": [
    "dfun2.tail(3)\n",
    "#confirming it worked"
   ]
  },
  {
   "cell_type": "code",
   "execution_count": 196,
   "metadata": {
    "collapsed": true
   },
   "outputs": [],
   "source": [
    "#renaming columns\n",
    "\n",
    "dfun2.rename(columns={'Country / territory of asylum/residence':'Country', \n",
    "                      'Refugees (incl. refugee-like situations)':'Refugees', \n",
    "                      'Asylum-seekers (pending cases)':'Asylum_Seekers'}, inplace = True)"
   ]
  },
  {
   "cell_type": "code",
   "execution_count": 197,
   "metadata": {
    "collapsed": true
   },
   "outputs": [],
   "source": [
    "import numpy as np"
   ]
  },
  {
   "cell_type": "code",
   "execution_count": 198,
   "metadata": {
    "collapsed": false
   },
   "outputs": [],
   "source": [
    "dfun2.Refugees = dfun2.Refugees.astype(str)"
   ]
  },
  {
   "cell_type": "code",
   "execution_count": 199,
   "metadata": {
    "collapsed": false
   },
   "outputs": [
    {
     "data": {
      "text/plain": [
       "array(['180000.0', '282000.0', '55000.0', ..., '18598', '2314', '4866'], dtype=object)"
      ]
     },
     "execution_count": 199,
     "metadata": {},
     "output_type": "execute_result"
    }
   ],
   "source": [
    "dfun2.Refugees.unique()"
   ]
  },
  {
   "cell_type": "code",
   "execution_count": 200,
   "metadata": {
    "collapsed": false
   },
   "outputs": [],
   "source": [
    "##putting zero to replace the NaN values and replacing the * with 0\n",
    "dfun2['Refugees']=np.where(dfun2['Refugees'].isnull()==True, 0, dfun2['Refugees'])\n"
   ]
  },
  {
   "cell_type": "code",
   "execution_count": 162,
   "metadata": {
    "collapsed": true
   },
   "outputs": [],
   "source": [
    "#new_str = string.replace(our_str, 'World', 'Jackson')\n",
    "#dfun2['Refugees'] = string.repalce9()"
   ]
  },
  {
   "cell_type": "code",
   "execution_count": null,
   "metadata": {
    "collapsed": true
   },
   "outputs": [],
   "source": []
  },
  {
   "cell_type": "code",
   "execution_count": 201,
   "metadata": {
    "collapsed": false
   },
   "outputs": [],
   "source": [
    "dfun2['Refugees']=np.where(dfun2['Refugees'].str.contains('nan')==True, dfun2['Refugees'].replace('nan', '0'),dfun2['Refugees'])\n"
   ]
  },
  {
   "cell_type": "code",
   "execution_count": 202,
   "metadata": {
    "collapsed": true
   },
   "outputs": [],
   "source": [
    "dfun2 = dfun2[dfun2.Refugees != '*']\n"
   ]
  },
  {
   "cell_type": "code",
   "execution_count": 203,
   "metadata": {
    "collapsed": false
   },
   "outputs": [
    {
     "data": {
      "text/html": [
       "<div>\n",
       "<table border=\"1\" class=\"dataframe\">\n",
       "  <thead>\n",
       "    <tr style=\"text-align: right;\">\n",
       "      <th></th>\n",
       "      <th>Year</th>\n",
       "      <th>Country</th>\n",
       "      <th>Origin</th>\n",
       "      <th>Refugees</th>\n",
       "      <th>Asylum_Seekers</th>\n",
       "    </tr>\n",
       "  </thead>\n",
       "  <tbody>\n",
       "    <tr>\n",
       "      <th>103711</th>\n",
       "      <td>2014</td>\n",
       "      <td>Zambia</td>\n",
       "      <td>Iraq</td>\n",
       "      <td>0</td>\n",
       "      <td>*</td>\n",
       "    </tr>\n",
       "    <tr>\n",
       "      <th>103712</th>\n",
       "      <td>2014</td>\n",
       "      <td>Zambia</td>\n",
       "      <td>Lebanon</td>\n",
       "      <td>6</td>\n",
       "      <td>NaN</td>\n",
       "    </tr>\n",
       "    <tr>\n",
       "      <th>103713</th>\n",
       "      <td>2014</td>\n",
       "      <td>Zambia</td>\n",
       "      <td>Liberia</td>\n",
       "      <td>19</td>\n",
       "      <td>NaN</td>\n",
       "    </tr>\n",
       "    <tr>\n",
       "      <th>103717</th>\n",
       "      <td>2014</td>\n",
       "      <td>Zambia</td>\n",
       "      <td>Palestinian</td>\n",
       "      <td>5</td>\n",
       "      <td>*</td>\n",
       "    </tr>\n",
       "    <tr>\n",
       "      <th>103718</th>\n",
       "      <td>2014</td>\n",
       "      <td>Zambia</td>\n",
       "      <td>Rwanda</td>\n",
       "      <td>1904</td>\n",
       "      <td>*</td>\n",
       "    </tr>\n",
       "    <tr>\n",
       "      <th>103719</th>\n",
       "      <td>2014</td>\n",
       "      <td>Zambia</td>\n",
       "      <td>Sudan</td>\n",
       "      <td>35</td>\n",
       "      <td>5</td>\n",
       "    </tr>\n",
       "    <tr>\n",
       "      <th>103721</th>\n",
       "      <td>2014</td>\n",
       "      <td>Zambia</td>\n",
       "      <td>Somalia</td>\n",
       "      <td>2314</td>\n",
       "      <td>296</td>\n",
       "    </tr>\n",
       "    <tr>\n",
       "      <th>103725</th>\n",
       "      <td>2014</td>\n",
       "      <td>Zambia</td>\n",
       "      <td>Uganda</td>\n",
       "      <td>105</td>\n",
       "      <td>10</td>\n",
       "    </tr>\n",
       "    <tr>\n",
       "      <th>103727</th>\n",
       "      <td>2014</td>\n",
       "      <td>Zambia</td>\n",
       "      <td>Zimbabwe</td>\n",
       "      <td>6</td>\n",
       "      <td>*</td>\n",
       "    </tr>\n",
       "    <tr>\n",
       "      <th>103729</th>\n",
       "      <td>2014</td>\n",
       "      <td>Zimbabwe</td>\n",
       "      <td>Burundi</td>\n",
       "      <td>593</td>\n",
       "      <td>65</td>\n",
       "    </tr>\n",
       "    <tr>\n",
       "      <th>103730</th>\n",
       "      <td>2014</td>\n",
       "      <td>Zimbabwe</td>\n",
       "      <td>Côte d'Ivoire</td>\n",
       "      <td>9</td>\n",
       "      <td>*</td>\n",
       "    </tr>\n",
       "    <tr>\n",
       "      <th>103731</th>\n",
       "      <td>2014</td>\n",
       "      <td>Zimbabwe</td>\n",
       "      <td>Dem. Rep. of the Congo</td>\n",
       "      <td>4866</td>\n",
       "      <td>491</td>\n",
       "    </tr>\n",
       "    <tr>\n",
       "      <th>103732</th>\n",
       "      <td>2014</td>\n",
       "      <td>Zimbabwe</td>\n",
       "      <td>Congo</td>\n",
       "      <td>14</td>\n",
       "      <td>NaN</td>\n",
       "    </tr>\n",
       "    <tr>\n",
       "      <th>103734</th>\n",
       "      <td>2014</td>\n",
       "      <td>Zimbabwe</td>\n",
       "      <td>Eritrea</td>\n",
       "      <td>16</td>\n",
       "      <td>*</td>\n",
       "    </tr>\n",
       "    <tr>\n",
       "      <th>103735</th>\n",
       "      <td>2014</td>\n",
       "      <td>Zimbabwe</td>\n",
       "      <td>Ethiopia</td>\n",
       "      <td>52</td>\n",
       "      <td>20</td>\n",
       "    </tr>\n",
       "    <tr>\n",
       "      <th>103738</th>\n",
       "      <td>2014</td>\n",
       "      <td>Zimbabwe</td>\n",
       "      <td>Rwanda</td>\n",
       "      <td>484</td>\n",
       "      <td>11</td>\n",
       "    </tr>\n",
       "    <tr>\n",
       "      <th>103739</th>\n",
       "      <td>2014</td>\n",
       "      <td>Zimbabwe</td>\n",
       "      <td>Sudan</td>\n",
       "      <td>11</td>\n",
       "      <td>NaN</td>\n",
       "    </tr>\n",
       "    <tr>\n",
       "      <th>103741</th>\n",
       "      <td>2014</td>\n",
       "      <td>Zimbabwe</td>\n",
       "      <td>Somalia</td>\n",
       "      <td>13</td>\n",
       "      <td>21</td>\n",
       "    </tr>\n",
       "    <tr>\n",
       "      <th>103743</th>\n",
       "      <td>2014</td>\n",
       "      <td>Zimbabwe</td>\n",
       "      <td>Uganda</td>\n",
       "      <td>8</td>\n",
       "      <td>*</td>\n",
       "    </tr>\n",
       "    <tr>\n",
       "      <th>103745</th>\n",
       "      <td>2014</td>\n",
       "      <td>Zimbabwe</td>\n",
       "      <td>Zimbabwe</td>\n",
       "      <td>0</td>\n",
       "      <td>NaN</td>\n",
       "    </tr>\n",
       "  </tbody>\n",
       "</table>\n",
       "</div>"
      ],
      "text/plain": [
       "        Year   Country                  Origin Refugees Asylum_Seekers\n",
       "103711  2014    Zambia                    Iraq        0              *\n",
       "103712  2014    Zambia                 Lebanon        6            NaN\n",
       "103713  2014    Zambia                 Liberia       19            NaN\n",
       "103717  2014    Zambia             Palestinian        5              *\n",
       "103718  2014    Zambia                  Rwanda     1904              *\n",
       "103719  2014    Zambia                   Sudan       35              5\n",
       "103721  2014    Zambia                 Somalia     2314            296\n",
       "103725  2014    Zambia                  Uganda      105             10\n",
       "103727  2014    Zambia                Zimbabwe        6              *\n",
       "103729  2014  Zimbabwe                 Burundi      593             65\n",
       "103730  2014  Zimbabwe           Côte d'Ivoire        9              *\n",
       "103731  2014  Zimbabwe  Dem. Rep. of the Congo     4866            491\n",
       "103732  2014  Zimbabwe                   Congo       14            NaN\n",
       "103734  2014  Zimbabwe                 Eritrea       16              *\n",
       "103735  2014  Zimbabwe                Ethiopia       52             20\n",
       "103738  2014  Zimbabwe                  Rwanda      484             11\n",
       "103739  2014  Zimbabwe                   Sudan       11            NaN\n",
       "103741  2014  Zimbabwe                 Somalia       13             21\n",
       "103743  2014  Zimbabwe                  Uganda        8              *\n",
       "103745  2014  Zimbabwe                Zimbabwe        0            NaN"
      ]
     },
     "execution_count": 203,
     "metadata": {},
     "output_type": "execute_result"
    }
   ],
   "source": [
    "dfun2.tail(20)"
   ]
  },
  {
   "cell_type": "code",
   "execution_count": 204,
   "metadata": {
    "collapsed": false
   },
   "outputs": [],
   "source": [
    "dfun2['Refugees'] = dfun2['Refugees'].astype(float)"
   ]
  },
  {
   "cell_type": "code",
   "execution_count": 205,
   "metadata": {
    "collapsed": false
   },
   "outputs": [],
   "source": [
    "dfun3 = dfun2.groupby(['Year','Country'], as_index=False).Refugees.sum()"
   ]
  },
  {
   "cell_type": "code",
   "execution_count": 206,
   "metadata": {
    "collapsed": false
   },
   "outputs": [
    {
     "data": {
      "text/html": [
       "<div>\n",
       "<table border=\"1\" class=\"dataframe\">\n",
       "  <thead>\n",
       "    <tr style=\"text-align: right;\">\n",
       "      <th></th>\n",
       "      <th>Year</th>\n",
       "      <th>Country</th>\n",
       "      <th>Refugees</th>\n",
       "    </tr>\n",
       "  </thead>\n",
       "  <tbody>\n",
       "    <tr>\n",
       "      <th>0</th>\n",
       "      <td>1951</td>\n",
       "      <td>Australia</td>\n",
       "      <td>180000.0</td>\n",
       "    </tr>\n",
       "    <tr>\n",
       "      <th>1</th>\n",
       "      <td>1951</td>\n",
       "      <td>Austria</td>\n",
       "      <td>282000.0</td>\n",
       "    </tr>\n",
       "  </tbody>\n",
       "</table>\n",
       "</div>"
      ],
      "text/plain": [
       "   Year    Country  Refugees\n",
       "0  1951  Australia  180000.0\n",
       "1  1951    Austria  282000.0"
      ]
     },
     "execution_count": 206,
     "metadata": {},
     "output_type": "execute_result"
    }
   ],
   "source": [
    "dfun3.head(2)"
   ]
  },
  {
   "cell_type": "code",
   "execution_count": 181,
   "metadata": {
    "collapsed": false,
    "scrolled": true
   },
   "outputs": [],
   "source": [
    "dfun3 = dfun2.drop([u'Origin', u'Asylum_Seekers'], axis=1)"
   ]
  },
  {
   "cell_type": "code",
   "execution_count": 209,
   "metadata": {
    "collapsed": false
   },
   "outputs": [
    {
     "data": {
      "text/plain": [
       "(5932, 3)"
      ]
     },
     "execution_count": 209,
     "metadata": {},
     "output_type": "execute_result"
    }
   ],
   "source": [
    "dfun3.shape"
   ]
  },
  {
   "cell_type": "code",
   "execution_count": 212,
   "metadata": {
    "collapsed": false
   },
   "outputs": [],
   "source": [
    "## add the 2 dataframes together\n",
    "maindf = pd.merge(wegtd, dfun3, on=['Year', 'Country'], how='left')"
   ]
  },
  {
   "cell_type": "code",
   "execution_count": 210,
   "metadata": {
    "collapsed": false
   },
   "outputs": [
    {
     "data": {
      "text/plain": [
       "(155, 3)"
      ]
     },
     "execution_count": 210,
     "metadata": {},
     "output_type": "execute_result"
    }
   ],
   "source": [
    "wegtd.shape"
   ]
  },
  {
   "cell_type": "code",
   "execution_count": 215,
   "metadata": {
    "collapsed": false
   },
   "outputs": [
    {
     "data": {
      "text/plain": [
       "Year        0\n",
       "Country     0\n",
       "Attacks     0\n",
       "Refugees    0\n",
       "dtype: int64"
      ]
     },
     "execution_count": 215,
     "metadata": {},
     "output_type": "execute_result"
    }
   ],
   "source": [
    "maindf.isnull().sum()"
   ]
  },
  {
   "cell_type": "markdown",
   "metadata": {},
   "source": []
  },
  {
   "cell_type": "code",
   "execution_count": 111,
   "metadata": {
    "collapsed": false
   },
   "outputs": [
    {
     "data": {
      "text/html": [
       "<div>\n",
       "<table border=\"1\" class=\"dataframe\">\n",
       "  <thead>\n",
       "    <tr style=\"text-align: right;\">\n",
       "      <th></th>\n",
       "      <th>Year</th>\n",
       "      <th>Country</th>\n",
       "      <th>Attacks</th>\n",
       "      <th>Refugees</th>\n",
       "    </tr>\n",
       "  </thead>\n",
       "  <tbody>\n",
       "    <tr>\n",
       "      <th>130</th>\n",
       "      <td>2012.0</td>\n",
       "      <td>Sweden</td>\n",
       "      <td>6.0</td>\n",
       "      <td>53000</td>\n",
       "    </tr>\n",
       "    <tr>\n",
       "      <th>131</th>\n",
       "      <td>2012.0</td>\n",
       "      <td>United Kingdom</td>\n",
       "      <td>178.0</td>\n",
       "      <td>63000</td>\n",
       "    </tr>\n",
       "    <tr>\n",
       "      <th>132</th>\n",
       "      <td>2013.0</td>\n",
       "      <td>Austria</td>\n",
       "      <td>7.0</td>\n",
       "      <td>46908</td>\n",
       "    </tr>\n",
       "    <tr>\n",
       "      <th>133</th>\n",
       "      <td>2013.0</td>\n",
       "      <td>Cyprus</td>\n",
       "      <td>27.0</td>\n",
       "      <td>20000</td>\n",
       "    </tr>\n",
       "    <tr>\n",
       "      <th>134</th>\n",
       "      <td>2013.0</td>\n",
       "      <td>Denmark</td>\n",
       "      <td>1.0</td>\n",
       "      <td>212000</td>\n",
       "    </tr>\n",
       "    <tr>\n",
       "      <th>135</th>\n",
       "      <td>2013.0</td>\n",
       "      <td>France</td>\n",
       "      <td>42.0</td>\n",
       "      <td>2500</td>\n",
       "    </tr>\n",
       "    <tr>\n",
       "      <th>136</th>\n",
       "      <td>2013.0</td>\n",
       "      <td>Greece</td>\n",
       "      <td>264.0</td>\n",
       "      <td>381152</td>\n",
       "    </tr>\n",
       "    <tr>\n",
       "      <th>137</th>\n",
       "      <td>2013.0</td>\n",
       "      <td>Ireland</td>\n",
       "      <td>82.0</td>\n",
       "      <td>175000</td>\n",
       "    </tr>\n",
       "    <tr>\n",
       "      <th>138</th>\n",
       "      <td>2013.0</td>\n",
       "      <td>Italy</td>\n",
       "      <td>30.0</td>\n",
       "      <td>15700</td>\n",
       "    </tr>\n",
       "    <tr>\n",
       "      <th>139</th>\n",
       "      <td>2013.0</td>\n",
       "      <td>Spain</td>\n",
       "      <td>15.0</td>\n",
       "      <td>21000</td>\n",
       "    </tr>\n",
       "    <tr>\n",
       "      <th>140</th>\n",
       "      <td>2013.0</td>\n",
       "      <td>Switzerland</td>\n",
       "      <td>6.0</td>\n",
       "      <td>1900</td>\n",
       "    </tr>\n",
       "    <tr>\n",
       "      <th>141</th>\n",
       "      <td>2013.0</td>\n",
       "      <td>United Kingdom</td>\n",
       "      <td>508.0</td>\n",
       "      <td>2700</td>\n",
       "    </tr>\n",
       "    <tr>\n",
       "      <th>142</th>\n",
       "      <td>2014.0</td>\n",
       "      <td>Belgium</td>\n",
       "      <td>9.0</td>\n",
       "      <td>13000</td>\n",
       "    </tr>\n",
       "    <tr>\n",
       "      <th>143</th>\n",
       "      <td>2014.0</td>\n",
       "      <td>Cyprus</td>\n",
       "      <td>15.0</td>\n",
       "      <td>3300</td>\n",
       "    </tr>\n",
       "    <tr>\n",
       "      <th>144</th>\n",
       "      <td>2014.0</td>\n",
       "      <td>France</td>\n",
       "      <td>73.0</td>\n",
       "      <td>31000</td>\n",
       "    </tr>\n",
       "    <tr>\n",
       "      <th>145</th>\n",
       "      <td>2014.0</td>\n",
       "      <td>Germany</td>\n",
       "      <td>86.0</td>\n",
       "      <td>1000</td>\n",
       "    </tr>\n",
       "    <tr>\n",
       "      <th>146</th>\n",
       "      <td>2014.0</td>\n",
       "      <td>Greece</td>\n",
       "      <td>124.0</td>\n",
       "      <td>2150</td>\n",
       "    </tr>\n",
       "    <tr>\n",
       "      <th>147</th>\n",
       "      <td>2014.0</td>\n",
       "      <td>Iceland</td>\n",
       "      <td>7.0</td>\n",
       "      <td>500000</td>\n",
       "    </tr>\n",
       "    <tr>\n",
       "      <th>148</th>\n",
       "      <td>2014.0</td>\n",
       "      <td>Ireland</td>\n",
       "      <td>135.0</td>\n",
       "      <td>144000</td>\n",
       "    </tr>\n",
       "    <tr>\n",
       "      <th>149</th>\n",
       "      <td>2014.0</td>\n",
       "      <td>Italy</td>\n",
       "      <td>34.0</td>\n",
       "      <td>44000</td>\n",
       "    </tr>\n",
       "    <tr>\n",
       "      <th>150</th>\n",
       "      <td>2014.0</td>\n",
       "      <td>Malta</td>\n",
       "      <td>3.0</td>\n",
       "      <td>58000</td>\n",
       "    </tr>\n",
       "    <tr>\n",
       "      <th>151</th>\n",
       "      <td>2014.0</td>\n",
       "      <td>Netherlands</td>\n",
       "      <td>7.0</td>\n",
       "      <td>47934</td>\n",
       "    </tr>\n",
       "    <tr>\n",
       "      <th>152</th>\n",
       "      <td>2014.0</td>\n",
       "      <td>Spain</td>\n",
       "      <td>13.0</td>\n",
       "      <td>20000</td>\n",
       "    </tr>\n",
       "    <tr>\n",
       "      <th>153</th>\n",
       "      <td>2014.0</td>\n",
       "      <td>Sweden</td>\n",
       "      <td>19.0</td>\n",
       "      <td>205000</td>\n",
       "    </tr>\n",
       "    <tr>\n",
       "      <th>154</th>\n",
       "      <td>2014.0</td>\n",
       "      <td>United Kingdom</td>\n",
       "      <td>477.0</td>\n",
       "      <td>2400</td>\n",
       "    </tr>\n",
       "  </tbody>\n",
       "</table>\n",
       "</div>"
      ],
      "text/plain": [
       "       Year         Country  Attacks Refugees\n",
       "130  2012.0          Sweden      6.0    53000\n",
       "131  2012.0  United Kingdom    178.0    63000\n",
       "132  2013.0         Austria      7.0    46908\n",
       "133  2013.0          Cyprus     27.0    20000\n",
       "134  2013.0         Denmark      1.0   212000\n",
       "135  2013.0          France     42.0     2500\n",
       "136  2013.0          Greece    264.0   381152\n",
       "137  2013.0         Ireland     82.0   175000\n",
       "138  2013.0           Italy     30.0    15700\n",
       "139  2013.0           Spain     15.0    21000\n",
       "140  2013.0     Switzerland      6.0     1900\n",
       "141  2013.0  United Kingdom    508.0     2700\n",
       "142  2014.0         Belgium      9.0    13000\n",
       "143  2014.0          Cyprus     15.0     3300\n",
       "144  2014.0          France     73.0    31000\n",
       "145  2014.0         Germany     86.0     1000\n",
       "146  2014.0          Greece    124.0     2150\n",
       "147  2014.0         Iceland      7.0   500000\n",
       "148  2014.0         Ireland    135.0   144000\n",
       "149  2014.0           Italy     34.0    44000\n",
       "150  2014.0           Malta      3.0    58000\n",
       "151  2014.0     Netherlands      7.0    47934\n",
       "152  2014.0           Spain     13.0    20000\n",
       "153  2014.0          Sweden     19.0   205000\n",
       "154  2014.0  United Kingdom    477.0     2400"
      ]
     },
     "execution_count": 111,
     "metadata": {},
     "output_type": "execute_result"
    }
   ],
   "source": [
    "maindf.tail(25)"
   ]
  },
  {
   "cell_type": "code",
   "execution_count": 106,
   "metadata": {
    "collapsed": true
   },
   "outputs": [],
   "source": [
    "maindf.columns = ['Year', 'Country', 'Attacks', 'Year_UN', 'Country_UN', 'Refugees']"
   ]
  },
  {
   "cell_type": "code",
   "execution_count": 107,
   "metadata": {
    "collapsed": true
   },
   "outputs": [],
   "source": [
    "maindf = maindf.drop(['Year_UN', 'Country_UN'], axis=1)"
   ]
  },
  {
   "cell_type": "code",
   "execution_count": 108,
   "metadata": {
    "collapsed": true
   },
   "outputs": [],
   "source": [
    "#df_no_99 = df_no_99[df_no_99.IndividualRate !=999999.00]\n",
    "maindf = maindf[(maindf.Year >1999) & (maindf.Year <2015)]"
   ]
  },
  {
   "cell_type": "code",
   "execution_count": 242,
   "metadata": {
    "collapsed": false
   },
   "outputs": [
    {
     "data": {
      "text/html": [
       "<div>\n",
       "<table border=\"1\" class=\"dataframe\">\n",
       "  <thead>\n",
       "    <tr style=\"text-align: right;\">\n",
       "      <th></th>\n",
       "      <th>Year</th>\n",
       "      <th>Country</th>\n",
       "      <th>Attacks</th>\n",
       "      <th>Refugees</th>\n",
       "      <th>Mean_Attacks</th>\n",
       "    </tr>\n",
       "  </thead>\n",
       "  <tbody>\n",
       "    <tr>\n",
       "      <th>130</th>\n",
       "      <td>2012</td>\n",
       "      <td>Sweden</td>\n",
       "      <td>6</td>\n",
       "      <td>92872.0</td>\n",
       "      <td>low</td>\n",
       "    </tr>\n",
       "    <tr>\n",
       "      <th>131</th>\n",
       "      <td>2012</td>\n",
       "      <td>United Kingdom</td>\n",
       "      <td>178</td>\n",
       "      <td>149799.0</td>\n",
       "      <td>high</td>\n",
       "    </tr>\n",
       "    <tr>\n",
       "      <th>132</th>\n",
       "      <td>2013</td>\n",
       "      <td>Austria</td>\n",
       "      <td>7</td>\n",
       "      <td>55598.0</td>\n",
       "      <td>low</td>\n",
       "    </tr>\n",
       "    <tr>\n",
       "      <th>133</th>\n",
       "      <td>2013</td>\n",
       "      <td>Cyprus</td>\n",
       "      <td>27</td>\n",
       "      <td>3883.0</td>\n",
       "      <td>low</td>\n",
       "    </tr>\n",
       "    <tr>\n",
       "      <th>134</th>\n",
       "      <td>2013</td>\n",
       "      <td>Denmark</td>\n",
       "      <td>1</td>\n",
       "      <td>13170.0</td>\n",
       "      <td>low</td>\n",
       "    </tr>\n",
       "    <tr>\n",
       "      <th>135</th>\n",
       "      <td>2013</td>\n",
       "      <td>France</td>\n",
       "      <td>42</td>\n",
       "      <td>232487.0</td>\n",
       "      <td>low</td>\n",
       "    </tr>\n",
       "    <tr>\n",
       "      <th>136</th>\n",
       "      <td>2013</td>\n",
       "      <td>Greece</td>\n",
       "      <td>264</td>\n",
       "      <td>3485.0</td>\n",
       "      <td>high</td>\n",
       "    </tr>\n",
       "    <tr>\n",
       "      <th>137</th>\n",
       "      <td>2013</td>\n",
       "      <td>Ireland</td>\n",
       "      <td>82</td>\n",
       "      <td>6001.0</td>\n",
       "      <td>high</td>\n",
       "    </tr>\n",
       "    <tr>\n",
       "      <th>138</th>\n",
       "      <td>2013</td>\n",
       "      <td>Italy</td>\n",
       "      <td>30</td>\n",
       "      <td>76264.0</td>\n",
       "      <td>low</td>\n",
       "    </tr>\n",
       "    <tr>\n",
       "      <th>139</th>\n",
       "      <td>2013</td>\n",
       "      <td>Spain</td>\n",
       "      <td>15</td>\n",
       "      <td>4637.0</td>\n",
       "      <td>low</td>\n",
       "    </tr>\n",
       "    <tr>\n",
       "      <th>140</th>\n",
       "      <td>2013</td>\n",
       "      <td>Switzerland</td>\n",
       "      <td>6</td>\n",
       "      <td>52464.0</td>\n",
       "      <td>low</td>\n",
       "    </tr>\n",
       "    <tr>\n",
       "      <th>141</th>\n",
       "      <td>2013</td>\n",
       "      <td>United Kingdom</td>\n",
       "      <td>508</td>\n",
       "      <td>126055.0</td>\n",
       "      <td>high</td>\n",
       "    </tr>\n",
       "    <tr>\n",
       "      <th>142</th>\n",
       "      <td>2014</td>\n",
       "      <td>Belgium</td>\n",
       "      <td>9</td>\n",
       "      <td>29115.0</td>\n",
       "      <td>low</td>\n",
       "    </tr>\n",
       "    <tr>\n",
       "      <th>143</th>\n",
       "      <td>2014</td>\n",
       "      <td>Cyprus</td>\n",
       "      <td>15</td>\n",
       "      <td>5075.0</td>\n",
       "      <td>low</td>\n",
       "    </tr>\n",
       "    <tr>\n",
       "      <th>144</th>\n",
       "      <td>2014</td>\n",
       "      <td>France</td>\n",
       "      <td>73</td>\n",
       "      <td>252228.0</td>\n",
       "      <td>high</td>\n",
       "    </tr>\n",
       "    <tr>\n",
       "      <th>145</th>\n",
       "      <td>2014</td>\n",
       "      <td>Germany</td>\n",
       "      <td>86</td>\n",
       "      <td>216921.0</td>\n",
       "      <td>high</td>\n",
       "    </tr>\n",
       "    <tr>\n",
       "      <th>146</th>\n",
       "      <td>2014</td>\n",
       "      <td>Greece</td>\n",
       "      <td>124</td>\n",
       "      <td>10262.0</td>\n",
       "      <td>high</td>\n",
       "    </tr>\n",
       "    <tr>\n",
       "      <th>147</th>\n",
       "      <td>2014</td>\n",
       "      <td>Iceland</td>\n",
       "      <td>7</td>\n",
       "      <td>58.0</td>\n",
       "      <td>low</td>\n",
       "    </tr>\n",
       "    <tr>\n",
       "      <th>148</th>\n",
       "      <td>2014</td>\n",
       "      <td>Ireland</td>\n",
       "      <td>135</td>\n",
       "      <td>5797.0</td>\n",
       "      <td>high</td>\n",
       "    </tr>\n",
       "    <tr>\n",
       "      <th>149</th>\n",
       "      <td>2014</td>\n",
       "      <td>Italy</td>\n",
       "      <td>34</td>\n",
       "      <td>93662.0</td>\n",
       "      <td>low</td>\n",
       "    </tr>\n",
       "    <tr>\n",
       "      <th>150</th>\n",
       "      <td>2014</td>\n",
       "      <td>Malta</td>\n",
       "      <td>3</td>\n",
       "      <td>6055.0</td>\n",
       "      <td>low</td>\n",
       "    </tr>\n",
       "    <tr>\n",
       "      <th>151</th>\n",
       "      <td>2014</td>\n",
       "      <td>Netherlands</td>\n",
       "      <td>7</td>\n",
       "      <td>82433.0</td>\n",
       "      <td>low</td>\n",
       "    </tr>\n",
       "    <tr>\n",
       "      <th>152</th>\n",
       "      <td>2014</td>\n",
       "      <td>Spain</td>\n",
       "      <td>13</td>\n",
       "      <td>5737.0</td>\n",
       "      <td>low</td>\n",
       "    </tr>\n",
       "    <tr>\n",
       "      <th>153</th>\n",
       "      <td>2014</td>\n",
       "      <td>Sweden</td>\n",
       "      <td>19</td>\n",
       "      <td>142152.0</td>\n",
       "      <td>low</td>\n",
       "    </tr>\n",
       "    <tr>\n",
       "      <th>154</th>\n",
       "      <td>2014</td>\n",
       "      <td>United Kingdom</td>\n",
       "      <td>477</td>\n",
       "      <td>117093.0</td>\n",
       "      <td>high</td>\n",
       "    </tr>\n",
       "  </tbody>\n",
       "</table>\n",
       "</div>"
      ],
      "text/plain": [
       "     Year         Country  Attacks  Refugees Mean_Attacks\n",
       "130  2012          Sweden        6   92872.0          low\n",
       "131  2012  United Kingdom      178  149799.0         high\n",
       "132  2013         Austria        7   55598.0          low\n",
       "133  2013          Cyprus       27    3883.0          low\n",
       "134  2013         Denmark        1   13170.0          low\n",
       "135  2013          France       42  232487.0          low\n",
       "136  2013          Greece      264    3485.0         high\n",
       "137  2013         Ireland       82    6001.0         high\n",
       "138  2013           Italy       30   76264.0          low\n",
       "139  2013           Spain       15    4637.0          low\n",
       "140  2013     Switzerland        6   52464.0          low\n",
       "141  2013  United Kingdom      508  126055.0         high\n",
       "142  2014         Belgium        9   29115.0          low\n",
       "143  2014          Cyprus       15    5075.0          low\n",
       "144  2014          France       73  252228.0         high\n",
       "145  2014         Germany       86  216921.0         high\n",
       "146  2014          Greece      124   10262.0         high\n",
       "147  2014         Iceland        7      58.0          low\n",
       "148  2014         Ireland      135    5797.0         high\n",
       "149  2014           Italy       34   93662.0          low\n",
       "150  2014           Malta        3    6055.0          low\n",
       "151  2014     Netherlands        7   82433.0          low\n",
       "152  2014           Spain       13    5737.0          low\n",
       "153  2014          Sweden       19  142152.0          low\n",
       "154  2014  United Kingdom      477  117093.0         high"
      ]
     },
     "execution_count": 242,
     "metadata": {},
     "output_type": "execute_result"
    }
   ],
   "source": [
    "maindf.tail(25)"
   ]
  },
  {
   "cell_type": "code",
   "execution_count": 241,
   "metadata": {
    "collapsed": false
   },
   "outputs": [
    {
     "data": {
      "text/html": [
       "<div>\n",
       "<table border=\"1\" class=\"dataframe\">\n",
       "  <thead>\n",
       "    <tr style=\"text-align: right;\">\n",
       "      <th></th>\n",
       "      <th>Year</th>\n",
       "      <th>Attacks</th>\n",
       "      <th>Refugees</th>\n",
       "    </tr>\n",
       "  </thead>\n",
       "  <tbody>\n",
       "    <tr>\n",
       "      <th>count</th>\n",
       "      <td>155.000000</td>\n",
       "      <td>155.000000</td>\n",
       "      <td>155.000000</td>\n",
       "    </tr>\n",
       "    <tr>\n",
       "      <th>mean</th>\n",
       "      <td>2007.329032</td>\n",
       "      <td>57.851613</td>\n",
       "      <td>125697.722581</td>\n",
       "    </tr>\n",
       "    <tr>\n",
       "      <th>std</th>\n",
       "      <td>4.391712</td>\n",
       "      <td>99.633015</td>\n",
       "      <td>204881.204641</td>\n",
       "    </tr>\n",
       "    <tr>\n",
       "      <th>min</th>\n",
       "      <td>2000.000000</td>\n",
       "      <td>1.000000</td>\n",
       "      <td>58.000000</td>\n",
       "    </tr>\n",
       "    <tr>\n",
       "      <th>25%</th>\n",
       "      <td>2003.000000</td>\n",
       "      <td>7.000000</td>\n",
       "      <td>6265.500000</td>\n",
       "    </tr>\n",
       "    <tr>\n",
       "      <th>50%</th>\n",
       "      <td>2008.000000</td>\n",
       "      <td>16.000000</td>\n",
       "      <td>47061.000000</td>\n",
       "    </tr>\n",
       "    <tr>\n",
       "      <th>75%</th>\n",
       "      <td>2011.000000</td>\n",
       "      <td>73.000000</td>\n",
       "      <td>146088.000000</td>\n",
       "    </tr>\n",
       "    <tr>\n",
       "      <th>max</th>\n",
       "      <td>2014.000000</td>\n",
       "      <td>693.000000</td>\n",
       "      <td>980000.000000</td>\n",
       "    </tr>\n",
       "  </tbody>\n",
       "</table>\n",
       "</div>"
      ],
      "text/plain": [
       "              Year     Attacks       Refugees\n",
       "count   155.000000  155.000000     155.000000\n",
       "mean   2007.329032   57.851613  125697.722581\n",
       "std       4.391712   99.633015  204881.204641\n",
       "min    2000.000000    1.000000      58.000000\n",
       "25%    2003.000000    7.000000    6265.500000\n",
       "50%    2008.000000   16.000000   47061.000000\n",
       "75%    2011.000000   73.000000  146088.000000\n",
       "max    2014.000000  693.000000  980000.000000"
      ]
     },
     "execution_count": 241,
     "metadata": {},
     "output_type": "execute_result"
    }
   ],
   "source": [
    "maindf.describe()"
   ]
  },
  {
   "cell_type": "code",
   "execution_count": 239,
   "metadata": {
    "collapsed": true
   },
   "outputs": [],
   "source": [
    "import matplotlib.pyplot as plt\n",
    "import seaborn as sns"
   ]
  },
  {
   "cell_type": "code",
   "execution_count": 250,
   "metadata": {
    "collapsed": false
   },
   "outputs": [
    {
     "data": {
      "text/plain": [
       "<matplotlib.axes._subplots.AxesSubplot at 0x1d23bd0d0>"
      ]
     },
     "execution_count": 250,
     "metadata": {},
     "output_type": "execute_result"
    }
   ],
   "source": [
    "splt = pd.crosstab(maindf['Refugees'], maindf['Attacks'])\n",
    "splt.plot(kind='bar', stacked=True, color=['red','blue'], grid=False)\n"
   ]
  },
  {
   "cell_type": "code",
   "execution_count": 240,
   "metadata": {
    "collapsed": false,
    "scrolled": false
   },
   "outputs": [
    {
     "data": {
      "image/png": "[encoded data removed]",
      "text/plain": [
       "<matplotlib.figure.Figure at 0x179960fd0>"
      ]
     },
     "metadata": {},
     "output_type": "display_data"
    }
   ],
   "source": [
    "plt.hist(maindf['Year'])\n",
    "plt.xlabel(\"Year\")\n",
    "plt.title(\"Terrorist Attacks in Western Europe\")\n",
    "plt.ylabel(\"Number of Attacks\")\n",
    "plt.show()"
   ]
  },
  {
   "cell_type": "code",
   "execution_count": null,
   "metadata": {
    "collapsed": true
   },
   "outputs": [],
   "source": []
  },
  {
   "cell_type": "code",
   "execution_count": 251,
   "metadata": {
    "collapsed": true
   },
   "outputs": [],
   "source": [
    "maindf.to_csv('main_df.csv')"
   ]
  },
  {
   "cell_type": "code",
   "execution_count": 223,
   "metadata": {
    "collapsed": false
   },
   "outputs": [
    {
     "name": "stdout",
     "output_type": "stream",
     "text": [
      "16.0\n"
     ]
    }
   ],
   "source": [
    "#calculating median Attacks\n",
    "# as that is what I'm trying predict\n",
    "median = maindf.Attacks.median()\n",
    "print median"
   ]
  },
  {
   "cell_type": "code",
   "execution_count": 225,
   "metadata": {
    "collapsed": false
   },
   "outputs": [
    {
     "name": "stdout",
     "output_type": "stream",
     "text": [
      "57.8516129032\n"
     ]
    }
   ],
   "source": [
    "#calculating mean of terrorist attacks\n",
    "mean = maindf.Attacks.mean()\n",
    "print mean"
   ]
  },
  {
   "cell_type": "code",
   "execution_count": 226,
   "metadata": {
    "collapsed": false
   },
   "outputs": [
    {
     "name": "stdout",
     "output_type": "stream",
     "text": [
      "693\n"
     ]
    }
   ],
   "source": [
    "#calculating max # of attacks\n",
    "max = maindf.Attacks.max()\n",
    "print max"
   ]
  },
  {
   "cell_type": "code",
   "execution_count": 227,
   "metadata": {
    "collapsed": true
   },
   "outputs": [],
   "source": [
    "def mean_attacks(column):\n",
    "    if column <= mean:\n",
    "        return 'low'\n",
    "    else:\n",
    "        return 'high'"
   ]
  },
  {
   "cell_type": "code",
   "execution_count": 228,
   "metadata": {
    "collapsed": true
   },
   "outputs": [],
   "source": [
    "#creating model\n",
    "maindf['Mean_Attacks'] = maindf['Attacks'].apply(mean_attacks)\n",
    "## creating roc auc curve "
   ]
  },
  {
   "cell_type": "code",
   "execution_count": 229,
   "metadata": {
    "collapsed": true
   },
   "outputs": [],
   "source": [
    "#X = model[model.drop('acceptability', axis =1)]\n",
    "X = pd.get_dummies(maindf['Country'])\n",
    "y = maindf['Mean_Attacks']"
   ]
  },
  {
   "cell_type": "code",
   "execution_count": null,
   "metadata": {
    "collapsed": true
   },
   "outputs": [],
   "source": [
    "from sklearn.cross_validation import cross_val_score, StratifiedKFold, train_test_split\n",
    "from sklearn.metrics import classification_report, confusion_matrix, accuracy_score"
   ]
  },
  {
   "cell_type": "code",
   "execution_count": 219,
   "metadata": {
    "collapsed": false
   },
   "outputs": [],
   "source": [
    "from sklearn.cross_validation import cross_val_score, StratifiedKFold\n",
    "from sklearn.tree import DecisionTreeClassifier\n",
    "from sklearn.ensemble import RandomForestClassifier, ExtraTreesClassifier, BaggingClassifier"
   ]
  },
  {
   "cell_type": "code",
   "execution_count": 231,
   "metadata": {
    "collapsed": false
   },
   "outputs": [
    {
     "data": {
      "text/plain": [
       "RandomForestClassifier(bootstrap=True, class_weight=None, criterion='gini',\n",
       "            max_depth=None, max_features='auto', max_leaf_nodes=None,\n",
       "            min_impurity_split=1e-07, min_samples_leaf=1,\n",
       "            min_samples_split=2, min_weight_fraction_leaf=0.0,\n",
       "            n_estimators=10, n_jobs=1, oob_score=False, random_state=None,\n",
       "            verbose=0, warm_start=False)"
      ]
     },
     "execution_count": 231,
     "metadata": {},
     "output_type": "execute_result"
    }
   ],
   "source": [
    "#my RF model begins\n",
    "\n",
    "rf = RandomForestClassifier()\n",
    "\n",
    "rf.fit(X,y)\n",
    "\n",
    "\n",
    "\n"
   ]
  },
  {
   "cell_type": "code",
   "execution_count": 232,
   "metadata": {
    "collapsed": true
   },
   "outputs": [],
   "source": [
    "cv = StratifiedKFold(y, n_folds=5, shuffle=True)\n"
   ]
  },
  {
   "cell_type": "code",
   "execution_count": 234,
   "metadata": {
    "collapsed": false
   },
   "outputs": [
    {
     "data": {
      "text/plain": [
       "0.80645161290322576"
      ]
     },
     "execution_count": 234,
     "metadata": {},
     "output_type": "execute_result"
    }
   ],
   "source": [
    "y_pred = rf.predict(X)\n",
    "scores = cross_val_score(rf, X, y, cv=cv)\n",
    "scores.mean()"
   ]
  },
  {
   "cell_type": "code",
   "execution_count": 237,
   "metadata": {
    "collapsed": true
   },
   "outputs": [],
   "source": [
    "from sklearn.metrics import classification_report, confusion_matrix, accuracy_score\n"
   ]
  },
  {
   "cell_type": "code",
   "execution_count": 238,
   "metadata": {
    "collapsed": false
   },
   "outputs": [
    {
     "name": "stdout",
     "output_type": "stream",
     "text": [
      "      high  low\n",
      "high    39    6\n",
      "low     20   90\n"
     ]
    }
   ],
   "source": [
    "conmat_1 = confusion_matrix(y, y_pred, labels=rf.classes_)\n",
    "conmat_1 = pd.DataFrame(conmat_1, columns=rf.classes_, index=rf.classes_)\n",
    "print(conmat_1)"
   ]
  },
  {
   "cell_type": "code",
   "execution_count": null,
   "metadata": {
    "collapsed": true
   },
   "outputs": [],
   "source": [
    "#The above was run to predict future number of terrorist attacks in Western Europe. The high and low are above and \n",
    "# below the "
   ]
  }
 ],
 "metadata": {
  "anaconda-cloud": {},
  "kernelspec": {
   "display_name": "Python [conda root]",
   "language": "python",
   "name": "conda-root-py"
  },
  "language_info": {
   "codemirror_mode": {
    "name": "ipython",
    "version": 2
   },
   "file_extension": ".py",
   "mimetype": "text/x-python",
   "name": "python",
   "nbconvert_exporter": "python",
   "pygments_lexer": "ipython2",
   "version": "2.7.12"
  }
 },
 "nbformat": 4,
 "nbformat_minor": 1
}
